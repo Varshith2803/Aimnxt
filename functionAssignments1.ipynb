{
  "cells": [
    {
      "cell_type": "code",
      "execution_count": null,
      "id": "12643519-2b60-4bde-a095-de764855ee07",
      "metadata": {
        "id": "12643519-2b60-4bde-a095-de764855ee07"
      },
      "outputs": [],
      "source": [
        "#1. Write a function that takes two numbers and returns their sum.\n",
        "def add(a,b):\n",
        "    return a+b\n",
        "\n"
      ]
    },
    {
      "cell_type": "code",
      "execution_count": null,
      "id": "f50325da-7ebb-4384-8572-693d255dc3c1",
      "metadata": {
        "id": "f50325da-7ebb-4384-8572-693d255dc3c1",
        "outputId": "5d447db3-0c7d-4bfe-c24a-41c0a26c457c"
      },
      "outputs": [
        {
          "data": {
            "text/plain": [
              "15"
            ]
          },
          "execution_count": 2,
          "metadata": {},
          "output_type": "execute_result"
        }
      ],
      "source": [
        "add(10,5)"
      ]
    },
    {
      "cell_type": "code",
      "execution_count": null,
      "id": "fe0a9744-4334-4f05-bc92-14cf4fa56bd6",
      "metadata": {
        "id": "fe0a9744-4334-4f05-bc92-14cf4fa56bd6"
      },
      "outputs": [],
      "source": [
        "#2. Write a function that takes a string and returns it reversed.\n",
        "str=(\"Varshith\",\"datascience\")"
      ]
    },
    {
      "cell_type": "code",
      "execution_count": null,
      "id": "08d53453-aec9-4e1b-bf30-cbab312b7aef",
      "metadata": {
        "id": "08d53453-aec9-4e1b-bf30-cbab312b7aef"
      },
      "outputs": [],
      "source": [
        "\n",
        "def rev(str):\n",
        "    return str[::-1]\n"
      ]
    },
    {
      "cell_type": "code",
      "execution_count": null,
      "id": "513853a6-cc04-49da-9f16-d214a28736a8",
      "metadata": {
        "id": "513853a6-cc04-49da-9f16-d214a28736a8",
        "outputId": "fe5894b8-6fc1-405d-ae8a-314930d7a24a",
        "colab": {
          "base_uri": "https://localhost:8080/"
        }
      },
      "outputs": [
        {
          "output_type": "execute_result",
          "data": {
            "text/plain": [
              "('datascience', 'Varshith')"
            ]
          },
          "metadata": {},
          "execution_count": 4
        }
      ],
      "source": [
        "rev(str)"
      ]
    },
    {
      "cell_type": "code",
      "execution_count": null,
      "id": "755b5707-718a-4d6e-b92e-4ddc018730ed",
      "metadata": {
        "id": "755b5707-718a-4d6e-b92e-4ddc018730ed"
      },
      "outputs": [],
      "source": [
        "def rev():\n",
        "    text=\"varshith\"\n",
        "    return text[::-1]\n"
      ]
    },
    {
      "cell_type": "code",
      "execution_count": null,
      "id": "abbadd0f-7074-46fe-a107-8956c0a7ebfa",
      "metadata": {
        "id": "abbadd0f-7074-46fe-a107-8956c0a7ebfa",
        "outputId": "6394dc7c-9c65-47d1-821e-d1cd2b4d035d",
        "colab": {
          "base_uri": "https://localhost:8080/",
          "height": 36
        }
      },
      "outputs": [
        {
          "output_type": "execute_result",
          "data": {
            "text/plain": [
              "'htihsrav'"
            ],
            "application/vnd.google.colaboratory.intrinsic+json": {
              "type": "string"
            }
          },
          "metadata": {},
          "execution_count": 7
        }
      ],
      "source": [
        "rev()\n"
      ]
    },
    {
      "cell_type": "code",
      "execution_count": null,
      "id": "ec2876a4-12a6-450e-b346-6b6f523ace21",
      "metadata": {
        "id": "ec2876a4-12a6-450e-b346-6b6f523ace21"
      },
      "outputs": [],
      "source": [
        "#3. Write a function that checks if a number is even or odd.\n",
        "def even(a):\n",
        "    if a%2==0:\n",
        "         return\"this is even num\"\n",
        "    else:\n",
        "        return \"this is add num\"\n",
        "\n"
      ]
    },
    {
      "cell_type": "code",
      "execution_count": null,
      "id": "8f75c2ab-64ea-4fee-a5c9-a72917598c39",
      "metadata": {
        "id": "8f75c2ab-64ea-4fee-a5c9-a72917598c39",
        "outputId": "b7d5ba4c-210a-4c79-f02f-741d901d89e4"
      },
      "outputs": [
        {
          "data": {
            "text/plain": [
              "'this is even num'"
            ]
          },
          "execution_count": 17,
          "metadata": {},
          "output_type": "execute_result"
        }
      ],
      "source": [
        "even(10)"
      ]
    },
    {
      "cell_type": "code",
      "execution_count": null,
      "id": "0d945800-ecaf-4966-a7d4-b112acccbb7e",
      "metadata": {
        "id": "0d945800-ecaf-4966-a7d4-b112acccbb7e"
      },
      "outputs": [],
      "source": [
        "#4. Write a function that returns the factorial of a number.\n",
        "def fact(n):\n",
        "    f=1\n",
        "    for i in range(1,n+1):\n",
        "        f = f * i\n",
        "    return f\n",
        "\n"
      ]
    },
    {
      "cell_type": "code",
      "execution_count": null,
      "id": "682a2276-b781-489b-b760-6b9664f49ea5",
      "metadata": {
        "id": "682a2276-b781-489b-b760-6b9664f49ea5",
        "outputId": "7fc8ee2d-8670-4902-8983-256a7f736caf"
      },
      "outputs": [
        {
          "data": {
            "text/plain": [
              "120"
            ]
          },
          "execution_count": 25,
          "metadata": {},
          "output_type": "execute_result"
        }
      ],
      "source": [
        "fact(5)"
      ]
    },
    {
      "cell_type": "code",
      "execution_count": null,
      "id": "021b03a1-3453-4ba3-b677-8693089bd72c",
      "metadata": {
        "id": "021b03a1-3453-4ba3-b677-8693089bd72c"
      },
      "outputs": [],
      "source": [
        "#5. Write a function that takes a list and returns the maximum element.\n",
        "def test():\n",
        "    l=[1,2,3,4,5,6,7]\n",
        "    return max(l)\n"
      ]
    },
    {
      "cell_type": "code",
      "execution_count": null,
      "id": "8b1104f2-9f53-49c4-8d6f-6842bc6b18ce",
      "metadata": {
        "id": "8b1104f2-9f53-49c4-8d6f-6842bc6b18ce",
        "outputId": "5cba8e09-82e7-4a75-befd-356a213f1a98"
      },
      "outputs": [
        {
          "data": {
            "text/plain": [
              "7"
            ]
          },
          "execution_count": 28,
          "metadata": {},
          "output_type": "execute_result"
        }
      ],
      "source": [
        "test()"
      ]
    },
    {
      "cell_type": "code",
      "execution_count": null,
      "id": "6f502ada-c84a-4feb-b131-ee04bb34345e",
      "metadata": {
        "id": "6f502ada-c84a-4feb-b131-ee04bb34345e",
        "outputId": "60241fd6-0b6e-4b0c-b080-232670db7ec3"
      },
      "outputs": [
        {
          "name": "stdout",
          "output_type": "stream",
          "text": [
            "1\n",
            "2\n",
            "3\n",
            "4\n",
            "5\n",
            "6\n",
            "7\n",
            "8\n",
            "9\n",
            "10\n"
          ]
        }
      ],
      "source": [
        "#6. Print numbers from 1 to 10 using a for loop.\n",
        "\n",
        "for i in range(1,11):\n",
        "    print(i)\n",
        "\n"
      ]
    },
    {
      "cell_type": "code",
      "execution_count": null,
      "id": "53c168b4-40f5-4093-9a7f-c20b53d50067",
      "metadata": {
        "id": "53c168b4-40f5-4093-9a7f-c20b53d50067",
        "outputId": "05065e10-aafc-43de-8c75-316d3de90b70",
        "colab": {
          "base_uri": "https://localhost:8080/"
        }
      },
      "outputs": [
        {
          "output_type": "stream",
          "name": "stdout",
          "text": [
            "V\n",
            "a\n",
            "r\n",
            "s\n",
            "h\n",
            "i\n",
            "t\n",
            "h\n"
          ]
        }
      ],
      "source": [
        "#7. Print each character in a string using a for loop.\n",
        "str = \"Varshith\"\n",
        "for i in str:\n",
        "    print(i)\n"
      ]
    },
    {
      "cell_type": "code",
      "execution_count": null,
      "id": "652169d3-89bf-4b46-9751-41f791d562d9",
      "metadata": {
        "id": "652169d3-89bf-4b46-9751-41f791d562d9",
        "outputId": "70f3bf9f-a826-4a41-d153-763cc093c2a7"
      },
      "outputs": [
        {
          "name": "stdout",
          "output_type": "stream",
          "text": [
            "21\n"
          ]
        }
      ],
      "source": [
        "#8. Write a program that sums all numbers in a list using a for loop.\n",
        "l=[1,2,3,4,5,6]\n",
        "n=0\n",
        "for i in l:\n",
        "    n=n+i\n",
        "print(n)\n"
      ]
    },
    {
      "cell_type": "code",
      "execution_count": null,
      "id": "73be12e5-e9d3-4f3c-9918-9bea163325c1",
      "metadata": {
        "id": "73be12e5-e9d3-4f3c-9918-9bea163325c1",
        "outputId": "2560fa62-2d14-414d-9021-a4c2863472fc"
      },
      "outputs": [
        {
          "name": "stdout",
          "output_type": "stream",
          "text": [
            "5 x 1 = 5\n",
            "5 x 2 = 10\n",
            "5 x 3 = 15\n",
            "5 x 4 = 20\n",
            "5 x 5 = 25\n",
            "5 x 6 = 30\n",
            "5 x 7 = 35\n",
            "5 x 8 = 40\n",
            "5 x 9 = 45\n",
            "5 x 10 = 50\n"
          ]
        }
      ],
      "source": [
        "#9. Print the multiplication table of a given number using a for loop.\n",
        "n=5\n",
        "for i in range(1,11):\n",
        "    print(n,'x',i,'=',n*i)\n",
        "\n",
        "\n"
      ]
    },
    {
      "cell_type": "code",
      "execution_count": null,
      "id": "7073db6b-ea3e-4fd4-a3f8-29c19ce37adf",
      "metadata": {
        "id": "7073db6b-ea3e-4fd4-a3f8-29c19ce37adf",
        "outputId": "37758687-d51e-436f-8bf7-6ff2ecb434eb"
      },
      "outputs": [
        {
          "name": "stdout",
          "output_type": "stream",
          "text": [
            "2\n",
            "4\n",
            "6\n",
            "8\n",
            "10\n",
            "12\n",
            "14\n",
            "16\n",
            "18\n",
            "20\n",
            "22\n",
            "24\n",
            "26\n",
            "28\n",
            "30\n",
            "32\n",
            "34\n",
            "36\n",
            "38\n",
            "40\n",
            "42\n",
            "44\n",
            "46\n",
            "48\n",
            "50\n"
          ]
        }
      ],
      "source": [
        "#10. Write a program that prints all even numbers from 1 to 50.\n",
        "for i in range(1,51):\n",
        "    if i%2==0:\n",
        "        print(i)"
      ]
    },
    {
      "cell_type": "code",
      "execution_count": null,
      "id": "784b83ca-0d32-4cb0-ac3b-2290e5c9f282",
      "metadata": {
        "id": "784b83ca-0d32-4cb0-ac3b-2290e5c9f282",
        "outputId": "f71aa3cc-230b-4920-cf62-c716ceefce17"
      },
      "outputs": [
        {
          "name": "stdout",
          "output_type": "stream",
          "text": [
            "1\n",
            "2\n",
            "3\n",
            "4\n",
            "5\n",
            "6\n",
            "7\n",
            "8\n",
            "9\n",
            "10\n"
          ]
        }
      ],
      "source": [
        "#11. Print numbers from 1 to 10 using a while loop.\n",
        "i=1\n",
        "while i<=10:\n",
        "    print(i)\n",
        "    i=i+1\n"
      ]
    },
    {
      "cell_type": "code",
      "execution_count": null,
      "id": "0ee43d8c-a1c9-4f8e-8c31-b3f20ea90ce1",
      "metadata": {
        "id": "0ee43d8c-a1c9-4f8e-8c31-b3f20ea90ce1",
        "outputId": "3a23b5c2-93d0-49ad-fb7d-40fd70e6bf6e"
      },
      "outputs": [
        {
          "name": "stdin",
          "output_type": "stream",
          "text": [
            "Enter something (type 'exit' to stop):  hi\n",
            "Enter something (type 'exit' to stop):  hello\n",
            "Enter something (type 'exit' to stop):  exit\n"
          ]
        },
        {
          "name": "stdout",
          "output_type": "stream",
          "text": [
            "exit\n"
          ]
        }
      ],
      "source": [
        "#12. Keep taking input from the user until they type \"exit\".\n",
        "while True:\n",
        "    user_input = input(\"Enter something (type 'exit' to stop): \")\n",
        "    if user_input == \"exit\":\n",
        "        print(\"exit\")\n",
        "        break\n"
      ]
    },
    {
      "cell_type": "code",
      "execution_count": null,
      "id": "5ab5802b-f88c-46dd-8812-4f0c65ea49df",
      "metadata": {
        "id": "5ab5802b-f88c-46dd-8812-4f0c65ea49df",
        "outputId": "9f5244d4-79d2-478b-891a-a420048f4f3e"
      },
      "outputs": [
        {
          "name": "stdout",
          "output_type": "stream",
          "text": [
            "sum of digit: 21\n"
          ]
        }
      ],
      "source": [
        "#13. Write a program that finds the sum of digits of a number using a while loop.\n",
        "\n",
        "n=777\n",
        "sum=0\n",
        "while n>0:\n",
        "    digit=n%10\n",
        "    sum=sum+digit\n",
        "    n=n//10\n",
        "print(\"sum of digit:\",sum)\n",
        "\n"
      ]
    },
    {
      "cell_type": "code",
      "execution_count": null,
      "id": "a6be61b8-7d35-45fa-ac98-fa6ab0324a3f",
      "metadata": {
        "id": "a6be61b8-7d35-45fa-ac98-fa6ab0324a3f",
        "outputId": "f1fddbbd-54ab-433a-bc92-62a882acabdc"
      },
      "outputs": [
        {
          "name": "stdin",
          "output_type": "stream",
          "text": [
            "Guess the number:  0\n",
            "Guess the number:  7\n",
            "Guess the number:  5\n"
          ]
        },
        {
          "name": "stdout",
          "output_type": "stream",
          "text": [
            "You guessed it right!\n"
          ]
        }
      ],
      "source": [
        "#14. Guess the number game: Keep asking the user until they guess the correct number.\n",
        "number = 5\n",
        "guess = 0   #\n",
        "\n",
        "while guess != number:\n",
        "    guess = int(input(\"Guess the number: \"))\n",
        "\n",
        "print(\"You guessed it right!\")\n"
      ]
    },
    {
      "cell_type": "code",
      "execution_count": null,
      "id": "ffa45dd0-d714-42b5-81e1-b02251dc9d11",
      "metadata": {
        "id": "ffa45dd0-d714-42b5-81e1-b02251dc9d11",
        "outputId": "32501953-edf3-4a34-9b4e-68d63fb0ac14"
      },
      "outputs": [
        {
          "name": "stdout",
          "output_type": "stream",
          "text": [
            "1 2 3 5 8 \n"
          ]
        }
      ],
      "source": [
        "#15. Print the Fibonacci sequence up to n terms using a while loop.\n",
        "n = 5\n",
        "a = 0\n",
        "b = 1\n",
        "next = b\n",
        "count = 1\n",
        "\n",
        "while count <= n:\n",
        "    print(next, end=\" \")\n",
        "    count += 1\n",
        "    a, b = b, next\n",
        "    next = a + b\n",
        "print()"
      ]
    },
    {
      "cell_type": "code",
      "execution_count": null,
      "id": "58ec99fe-51ae-47df-87a6-ecd77b43c229",
      "metadata": {
        "id": "58ec99fe-51ae-47df-87a6-ecd77b43c229"
      },
      "outputs": [],
      "source": [
        "16. Write a function that takes variable number of arguments using *args and returns their sum.\n",
        "\n",
        "17. Write a program that unpacks a list into separate variables using *.\n",
        "\n",
        "nums = [1, 2, 3, 4, 5]\n",
        "a, *b = nums  # Try printing a and b\n",
        "\n",
        "18. Create a function that multiplies a number with itself n times using * (e.g., 2 * 3 = 6).\n",
        "\n",
        "19. Use * to combine two lists into one:\n",
        "\n",
        "a = [1, 2]\n",
        "b = [3, 4]\n",
        "\n",
        "combined = [*a, *b]\n",
        "\n",
        "20. Write a function that checks whether a string is a palindrome.\n",
        "\n",
        "21. Write a function that returns the number of vowels in a given string.\n",
        "\n",
        "22. Write a function that takes a list of numbers and returns only the even numbers.\n",
        "\n",
        "23. Write a function that converts Celsius to Fahrenheit.\n",
        "\n",
        "24. Write a function that takes a string and returns the number of words in it.\n",
        "25. Write a function that uses *args and prints all values line by line with their index.\n",
        "26. Write a function that takes *args and returns their average.\n",
        "27. Keep asking the user to enter a positive number. Stop when they enter a negative number.\n",
        "\n",
        "28. Write a program to reverse a number using a while loop.\n",
        "\n",
        "29. Find the first number divisible by both 3 and 5 greater than 100 using while.\n",
        "\n",
        "30. Use a while loop to check if a number is a prime.\n",
        "\n",
        "31. Create a countdown timer using while, e.g., from 10 to 1.\n",
        "32. Print all elements in a nested list.\n",
        "\n",
        "33. Count how many times each character appears in a string.\n",
        "\n",
        "34. Use a for loop to find the largest number in a list without using max().\n",
        "\n",
        "35. Create a list of squares for numbers from 1 to 10 using a loop.\n"
      ]
    },
    {
      "cell_type": "code",
      "execution_count": null,
      "id": "22230297-2cfe-4c48-afa4-07d73fbd1942",
      "metadata": {
        "id": "22230297-2cfe-4c48-afa4-07d73fbd1942"
      },
      "outputs": [],
      "source": [
        "#16. Write a function that takes variable number of arguments using *args and returns their sum.\n",
        "def test(*args):\n",
        "    return sum(args)"
      ]
    },
    {
      "cell_type": "code",
      "execution_count": null,
      "id": "838dbfbd-c4f2-4132-ae8a-e18c11a66521",
      "metadata": {
        "id": "838dbfbd-c4f2-4132-ae8a-e18c11a66521",
        "outputId": "46995570-dea1-411c-c756-386585eb4dc0"
      },
      "outputs": [
        {
          "data": {
            "text/plain": [
              "19"
            ]
          },
          "execution_count": 11,
          "metadata": {},
          "output_type": "execute_result"
        }
      ],
      "source": [
        "test(1,2,3,4,4,5)"
      ]
    },
    {
      "cell_type": "code",
      "execution_count": null,
      "id": "f457c683-b75d-4d95-ae96-242f8f52cc1f",
      "metadata": {
        "id": "f457c683-b75d-4d95-ae96-242f8f52cc1f",
        "outputId": "619cf372-f966-4d45-b162-c2c9bd187eb7"
      },
      "outputs": [
        {
          "name": "stdout",
          "output_type": "stream",
          "text": [
            "a: 1\n",
            "b: [2, 3, 4, 5]\n"
          ]
        }
      ],
      "source": [
        "#17. Write a program that unpacks a list into separate variables using *.\n",
        "\n",
        "nums = [1, 2, 3, 4, 5]\n",
        "a, *b = nums\n",
        "print(\"a:\", a)\n",
        "print(\"b:\", b)\n"
      ]
    },
    {
      "cell_type": "markdown",
      "id": "dbf3a68f-55b1-4412-83ee-b1ce3672c2a0",
      "metadata": {
        "id": "dbf3a68f-55b1-4412-83ee-b1ce3672c2a0"
      },
      "source": [
        "18. Create a function that multiplies a number with itself n times using * (e.g., 2 * 3 = 6).\n",
        "\n",
        "    \n"
      ]
    },
    {
      "cell_type": "code",
      "execution_count": null,
      "id": "5d987010-dbad-4801-9f96-9aa80bf03ff8",
      "metadata": {
        "id": "5d987010-dbad-4801-9f96-9aa80bf03ff8"
      },
      "outputs": [],
      "source": [
        "def mul(n,b):\n",
        "    return a*b"
      ]
    },
    {
      "cell_type": "code",
      "execution_count": null,
      "id": "d3e57eb8-efd7-4142-9f2b-441e12315d11",
      "metadata": {
        "id": "d3e57eb8-efd7-4142-9f2b-441e12315d11",
        "outputId": "9d483e78-3b8a-430b-e9a8-75fda139c978"
      },
      "outputs": [
        {
          "data": {
            "text/plain": [
              "6"
            ]
          },
          "execution_count": 20,
          "metadata": {},
          "output_type": "execute_result"
        }
      ],
      "source": [
        "mul(2,3)"
      ]
    },
    {
      "cell_type": "code",
      "execution_count": null,
      "id": "6929c8b2-90c6-41bf-87be-e6ce02c6f192",
      "metadata": {
        "id": "6929c8b2-90c6-41bf-87be-e6ce02c6f192"
      },
      "outputs": [],
      "source": [
        "def mul(n, times):\n",
        "    result = 1\n",
        "    for _ in range(times):\n",
        "        result = result * n\n",
        "    return result\n"
      ]
    },
    {
      "cell_type": "code",
      "execution_count": null,
      "id": "86d83872-afff-46a4-9fd9-88b284175da7",
      "metadata": {
        "id": "86d83872-afff-46a4-9fd9-88b284175da7",
        "outputId": "a811fbfd-621f-401f-ce8b-1842c3acbb0f"
      },
      "outputs": [
        {
          "data": {
            "text/plain": [
              "8"
            ]
          },
          "execution_count": 26,
          "metadata": {},
          "output_type": "execute_result"
        }
      ],
      "source": [
        "mul(2,3)"
      ]
    },
    {
      "cell_type": "markdown",
      "id": "892dd61e-ca4d-4dd4-a34d-4278540d29cb",
      "metadata": {
        "id": "892dd61e-ca4d-4dd4-a34d-4278540d29cb"
      },
      "source": [
        "19. Use * to combine two lists into one:\n",
        "\n",
        "a = [1, 2]\n",
        "b = [3, 4]\n",
        "\n",
        "combined = [*a, *b]"
      ]
    },
    {
      "cell_type": "code",
      "execution_count": null,
      "id": "beb3d77e-c594-48a9-a3ab-95212097cc96",
      "metadata": {
        "id": "beb3d77e-c594-48a9-a3ab-95212097cc96",
        "outputId": "e44bf9b8-1830-4b76-b9cb-f04c5617d853"
      },
      "outputs": [
        {
          "name": "stdout",
          "output_type": "stream",
          "text": [
            "[1, 2, 3, 4]\n"
          ]
        }
      ],
      "source": [
        "a = [1, 2]\n",
        "b = [3, 4]\n",
        "combined = [*a, *b]\n",
        "print(combined)"
      ]
    },
    {
      "cell_type": "markdown",
      "id": "dc09119e-1a20-4a5c-b52e-306b55ddb08c",
      "metadata": {
        "id": "dc09119e-1a20-4a5c-b52e-306b55ddb08c"
      },
      "source": [
        "20. Write a function that checks whether a string is a palindrome.\n"
      ]
    },
    {
      "cell_type": "code",
      "execution_count": null,
      "id": "4a758d86-c2de-4fe4-a8ae-3f5695e20ba6",
      "metadata": {
        "id": "4a758d86-c2de-4fe4-a8ae-3f5695e20ba6",
        "outputId": "ba09e72d-3840-4585-d79c-ce1e3c0d9869"
      },
      "outputs": [
        {
          "name": "stdout",
          "output_type": "stream",
          "text": [
            "the word is palindrome\n"
          ]
        }
      ],
      "source": [
        "def palin(word):\n",
        "    if word == word[::-1]:\n",
        "        return \"the word is palindrome\"\n",
        "    else:\n",
        "        return \"not palindrome\"\n",
        "print(palin(\"madam\"))"
      ]
    },
    {
      "cell_type": "markdown",
      "id": "ce91bd9a-0b97-462e-9042-d0412567cf1b",
      "metadata": {
        "id": "ce91bd9a-0b97-462e-9042-d0412567cf1b"
      },
      "source": [
        "21. Write a function that returns the number of vowels in a given string.\n"
      ]
    },
    {
      "cell_type": "code",
      "execution_count": null,
      "id": "c4679ce1-fc86-417d-b8df-8ba4bc340fc8",
      "metadata": {
        "id": "c4679ce1-fc86-417d-b8df-8ba4bc340fc8",
        "outputId": "6a15aa05-58f4-4d1e-9ecf-bfe2644b8455",
        "colab": {
          "base_uri": "https://localhost:8080/"
        }
      },
      "outputs": [
        {
          "output_type": "stream",
          "name": "stdout",
          "text": [
            "2\n"
          ]
        }
      ],
      "source": [
        "def vow(text):\n",
        "    vowels = \"aeiou\"\n",
        "    count = 0\n",
        "    for char in text.lower():\n",
        "        if char in vowels:\n",
        "            count += 1\n",
        "    return count\n",
        "print(vow(\"Varshith\"))"
      ]
    },
    {
      "cell_type": "markdown",
      "id": "a95e746d-6ca8-48fb-96e8-66ea3770a615",
      "metadata": {
        "id": "a95e746d-6ca8-48fb-96e8-66ea3770a615"
      },
      "source": [
        "22. Write a function that takes a list of numbers and returns only the even numbers.\n"
      ]
    },
    {
      "cell_type": "code",
      "execution_count": null,
      "id": "4d969f3f-4660-4955-9782-eac1b09cba7f",
      "metadata": {
        "id": "4d969f3f-4660-4955-9782-eac1b09cba7f"
      },
      "outputs": [],
      "source": [
        "l=[1,2,3,4,5,6,7,8]"
      ]
    },
    {
      "cell_type": "code",
      "execution_count": null,
      "id": "466a357a-7bf8-481b-a421-512c87fe60bd",
      "metadata": {
        "id": "466a357a-7bf8-481b-a421-512c87fe60bd"
      },
      "outputs": [],
      "source": [
        "def even(lst):\n",
        "    l1=[]\n",
        "    for i in l:\n",
        "        if i%2==0:\n",
        "            l1.append(i)\n",
        "    return l1\n"
      ]
    },
    {
      "cell_type": "code",
      "execution_count": null,
      "id": "9dc01c95-d62c-4044-908d-4690b14ea7b4",
      "metadata": {
        "id": "9dc01c95-d62c-4044-908d-4690b14ea7b4",
        "outputId": "b253b0e9-c8ee-43a7-b876-1a82a780d829"
      },
      "outputs": [
        {
          "data": {
            "text/plain": [
              "[2, 4, 6, 8]"
            ]
          },
          "execution_count": 78,
          "metadata": {},
          "output_type": "execute_result"
        }
      ],
      "source": [
        "even(l)"
      ]
    },
    {
      "cell_type": "markdown",
      "id": "d6ee42e5-33c5-4360-89f3-d98385f0ac1b",
      "metadata": {
        "id": "d6ee42e5-33c5-4360-89f3-d98385f0ac1b"
      },
      "source": [
        "23. Write a function that converts Celsius to Fahrenheit.\n"
      ]
    },
    {
      "cell_type": "code",
      "execution_count": null,
      "id": "440d0df4-4c78-4709-9940-7fa6e2bf8851",
      "metadata": {
        "id": "440d0df4-4c78-4709-9940-7fa6e2bf8851"
      },
      "outputs": [],
      "source": []
    },
    {
      "cell_type": "markdown",
      "id": "596f945b-dc47-4bd8-a07a-62933ed7186c",
      "metadata": {
        "id": "596f945b-dc47-4bd8-a07a-62933ed7186c"
      },
      "source": [
        "24. Write a function that takes a string and returns the number of words in it.\n"
      ]
    },
    {
      "cell_type": "code",
      "execution_count": null,
      "id": "e9e89aec-7771-4eea-82a9-3571e2070bb5",
      "metadata": {
        "id": "e9e89aec-7771-4eea-82a9-3571e2070bb5"
      },
      "outputs": [],
      "source": [
        "def wor(text):\n",
        "    words=text.split()\n",
        "    return len(words)\n",
        "\n",
        "\n"
      ]
    },
    {
      "cell_type": "code",
      "execution_count": null,
      "id": "2f500543-f264-4b63-b125-f1abd74170c9",
      "metadata": {
        "id": "2f500543-f264-4b63-b125-f1abd74170c9",
        "outputId": "1411ce2b-4c4b-4192-d269-2c518fcee591",
        "colab": {
          "base_uri": "https://localhost:8080/"
        }
      },
      "outputs": [
        {
          "output_type": "execute_result",
          "data": {
            "text/plain": [
              "3"
            ]
          },
          "metadata": {},
          "execution_count": 11
        }
      ],
      "source": [
        "wor(\"Varshith is datascientist\")"
      ]
    },
    {
      "cell_type": "markdown",
      "id": "d00635fc-b5eb-447f-9587-efd765438d80",
      "metadata": {
        "id": "d00635fc-b5eb-447f-9587-efd765438d80"
      },
      "source": [
        "25. Write a function that uses *args and prints all values line by line with their index.\n"
      ]
    },
    {
      "cell_type": "code",
      "execution_count": null,
      "id": "4c07e240-079f-4b21-9c79-5331c83896fa",
      "metadata": {
        "id": "4c07e240-079f-4b21-9c79-5331c83896fa"
      },
      "outputs": [],
      "source": [
        "def test(*args):\n",
        "    i=0\n",
        "    for items in args:\n",
        "        print(i ,\":\" ,items)\n",
        "        i=i+1\n"
      ]
    },
    {
      "cell_type": "code",
      "execution_count": null,
      "id": "c7691afb-ec2f-4c35-8b20-25927b20fa05",
      "metadata": {
        "id": "c7691afb-ec2f-4c35-8b20-25927b20fa05",
        "outputId": "8f3569e6-bfe0-402d-98b6-9596e91e3ab3",
        "colab": {
          "base_uri": "https://localhost:8080/"
        }
      },
      "outputs": [
        {
          "output_type": "stream",
          "name": "stdout",
          "text": [
            "0 : 1\n",
            "1 : 2\n",
            "2 : 3\n",
            "3 : 4\n",
            "4 : 5\n",
            "5 : ['varshith']\n"
          ]
        }
      ],
      "source": [
        "test(1,2,3,4,5,[\"varshith\"])"
      ]
    },
    {
      "cell_type": "markdown",
      "id": "1ac5d5bd-a5e5-410d-bde6-ac66158dafdd",
      "metadata": {
        "id": "1ac5d5bd-a5e5-410d-bde6-ac66158dafdd"
      },
      "source": [
        "26. Write a function that takes *args and returns their average.\n"
      ]
    },
    {
      "cell_type": "code",
      "execution_count": null,
      "id": "d3fdc0fb-b254-499c-a1fc-67c5773e7698",
      "metadata": {
        "id": "d3fdc0fb-b254-499c-a1fc-67c5773e7698"
      },
      "outputs": [],
      "source": [
        "def test2(*avrgs):\n",
        "    return sum(avrgs)/len(avrgs)"
      ]
    },
    {
      "cell_type": "code",
      "execution_count": null,
      "id": "4743305f-917c-4214-9812-419f6df60c7f",
      "metadata": {
        "id": "4743305f-917c-4214-9812-419f6df60c7f",
        "outputId": "21f69bd0-f8ba-46cf-d931-4e96caa95375"
      },
      "outputs": [
        {
          "data": {
            "text/plain": [
              "3.5"
            ]
          },
          "execution_count": 102,
          "metadata": {},
          "output_type": "execute_result"
        }
      ],
      "source": [
        "test2(1,2,3,4,5,6)"
      ]
    },
    {
      "cell_type": "markdown",
      "id": "503bc6c4-8cd1-4841-9d51-13633cd8c3ac",
      "metadata": {
        "id": "503bc6c4-8cd1-4841-9d51-13633cd8c3ac"
      },
      "source": [
        "27. Keep asking the user to enter a positive number. Stop when they enter a negative number.\n"
      ]
    },
    {
      "cell_type": "code",
      "execution_count": null,
      "id": "92bb4fea-1cc0-4d85-8e52-006b05b0d211",
      "metadata": {
        "id": "92bb4fea-1cc0-4d85-8e52-006b05b0d211",
        "outputId": "2ccccc02-da52-4740-f88c-8aaf8137297d"
      },
      "outputs": [
        {
          "name": "stdin",
          "output_type": "stream",
          "text": [
            "Enter a positive number:  2\n",
            "Enter a positive number:  3\n",
            "Enter a positive number:  1\n",
            "Enter a positive number:  0\n",
            "Enter a positive number:  -1\n"
          ]
        },
        {
          "name": "stdout",
          "output_type": "stream",
          "text": [
            "Negative number entered. Stopping...\n"
          ]
        }
      ],
      "source": [
        "while True:\n",
        "    num = int(input(\"Enter a positive number: \"))\n",
        "    if num < 0:\n",
        "        print(\"Negative number entered. Stopping...\")\n",
        "        break\n",
        "\n"
      ]
    },
    {
      "cell_type": "markdown",
      "id": "10d26713-9198-44a8-95aa-c016cea90ef4",
      "metadata": {
        "id": "10d26713-9198-44a8-95aa-c016cea90ef4"
      },
      "source": [
        "28. Write a program to reverse a number using a while loop.\n"
      ]
    },
    {
      "cell_type": "code",
      "execution_count": null,
      "id": "7492f257-df6c-4785-8535-a3109ec70b0c",
      "metadata": {
        "id": "7492f257-df6c-4785-8535-a3109ec70b0c",
        "outputId": "2288ea17-3aea-4166-e557-2f23c90a853b"
      },
      "outputs": [
        {
          "name": "stdin",
          "output_type": "stream",
          "text": [
            "Enter a number:  1234567890\n"
          ]
        },
        {
          "name": "stdout",
          "output_type": "stream",
          "text": [
            "Reversed number: 987654321\n"
          ]
        }
      ],
      "source": [
        "num = int(input(\"Enter a number: \"))\n",
        "rev = 0\n",
        "\n",
        "while num > 0:\n",
        "    digit = num % 10\n",
        "    rev = rev * 10 + digit\n",
        "    num = num // 10\n",
        "\n",
        "print(\"Reversed number:\", rev)\n"
      ]
    },
    {
      "cell_type": "markdown",
      "id": "378da8f2-e5cd-47d7-bb0e-353b81a529fa",
      "metadata": {
        "id": "378da8f2-e5cd-47d7-bb0e-353b81a529fa"
      },
      "source": [
        "29. Find the first number divisible by both 3 and 5 greater than 100 using while.\n"
      ]
    },
    {
      "cell_type": "code",
      "execution_count": null,
      "id": "ed67411b-eefa-42dc-bef0-3697d04d1702",
      "metadata": {
        "id": "ed67411b-eefa-42dc-bef0-3697d04d1702",
        "outputId": "5cec9ad2-cfb8-4861-9bfd-f11e7912826f"
      },
      "outputs": [
        {
          "name": "stdout",
          "output_type": "stream",
          "text": [
            "  105\n"
          ]
        }
      ],
      "source": [
        "n = 101\n",
        "\n",
        "while True:\n",
        "    if n % 3 == 0 and n % 5 == 0:\n",
        "        print(\" \", n)\n",
        "        break\n",
        "    n = n + 1\n"
      ]
    },
    {
      "cell_type": "markdown",
      "id": "bacaf96e-3572-4384-aff8-6a774b2c1924",
      "metadata": {
        "id": "bacaf96e-3572-4384-aff8-6a774b2c1924"
      },
      "source": [
        "31. Create a countdown timer using while, e.g., from 10 to 1."
      ]
    },
    {
      "cell_type": "code",
      "execution_count": null,
      "id": "988511a9-6da5-4756-9869-347e20f3a489",
      "metadata": {
        "id": "988511a9-6da5-4756-9869-347e20f3a489",
        "outputId": "eb8bbb7d-c77c-44f7-d8b5-192ac0929ac9"
      },
      "outputs": [
        {
          "name": "stdout",
          "output_type": "stream",
          "text": [
            "10\n",
            "9\n",
            "8\n",
            "7\n",
            "6\n",
            "5\n",
            "4\n",
            "3\n",
            "2\n",
            "1\n",
            "Liftoff!\n"
          ]
        }
      ],
      "source": [
        "count = 10\n",
        "while count > 0:\n",
        "    print(count)\n",
        "    count -= 1\n",
        "print(\"Liftoff!\")"
      ]
    },
    {
      "cell_type": "markdown",
      "id": "0aebd51f-c034-415c-bbe4-aca730289e50",
      "metadata": {
        "id": "0aebd51f-c034-415c-bbe4-aca730289e50"
      },
      "source": [
        "32.Print all elements in a nested list."
      ]
    },
    {
      "cell_type": "code",
      "execution_count": null,
      "id": "3c75faec-85a3-4586-9c6d-65232d7bdfba",
      "metadata": {
        "id": "3c75faec-85a3-4586-9c6d-65232d7bdfba",
        "outputId": "a1a039d1-5752-4496-c0c6-ada9529f8b79"
      },
      "outputs": [
        {
          "name": "stdout",
          "output_type": "stream",
          "text": [
            "1\n",
            "2\n",
            "3\n",
            "4\n",
            "5\n"
          ]
        }
      ],
      "source": [
        "nested = [[1, 2], [3, 4], [5]]\n",
        "for sub in nested:\n",
        "    for item in sub:\n",
        "        print(item)"
      ]
    },
    {
      "cell_type": "markdown",
      "id": "7b93f506-af56-4694-8a42-48853ac9b76d",
      "metadata": {
        "id": "7b93f506-af56-4694-8a42-48853ac9b76d"
      },
      "source": [
        "33.Count how many times each character appears in a string.\n"
      ]
    },
    {
      "cell_type": "code",
      "execution_count": null,
      "id": "5e14d3da-c5f6-4305-ad42-344adcd4d4ab",
      "metadata": {
        "id": "5e14d3da-c5f6-4305-ad42-344adcd4d4ab",
        "outputId": "6451112c-02c7-4f13-ea7e-fbd3eb4eaab2"
      },
      "outputs": [
        {
          "name": "stdout",
          "output_type": "stream",
          "text": [
            "{'h': 1, 'e': 1, 'l': 2, 'o': 1}\n"
          ]
        }
      ],
      "source": [
        "s = \"hello\"\n",
        "counts = {}\n",
        "for char in s:\n",
        "    counts[char] = counts.get(char, 0) + 1\n",
        "print(counts)\n"
      ]
    },
    {
      "cell_type": "code",
      "execution_count": null,
      "id": "861cce75-0e30-4269-954a-cbebf82b736f",
      "metadata": {
        "id": "861cce75-0e30-4269-954a-cbebf82b736f"
      },
      "outputs": [],
      "source": []
    },
    {
      "cell_type": "code",
      "execution_count": null,
      "id": "27f0dd73-709d-4564-b664-37a9a316536d",
      "metadata": {
        "id": "27f0dd73-709d-4564-b664-37a9a316536d"
      },
      "outputs": [],
      "source": [
        "nums = [4, , 9, 1]\n",
        "largest = nums[0]\n",
        "for num in nums:\n",
        "    if num > largest:\n",
        "        largest = num\n",
        "print(largest)"
      ]
    }
  ],
  "metadata": {
    "kernelspec": {
      "display_name": "Python 3 (ipykernel)",
      "language": "python",
      "name": "python3"
    },
    "language_info": {
      "codemirror_mode": {
        "name": "ipython",
        "version": 3
      },
      "file_extension": ".py",
      "mimetype": "text/x-python",
      "name": "python",
      "nbconvert_exporter": "python",
      "pygments_lexer": "ipython3",
      "version": "3.13.5"
    },
    "colab": {
      "provenance": []
    }
  },
  "nbformat": 4,
  "nbformat_minor": 5
}