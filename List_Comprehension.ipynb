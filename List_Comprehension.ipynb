{
  "cells": [
    {
      "cell_type": "markdown",
      "id": "c091a757-0897-4f09-a5fb-e2acc5cc4e35",
      "metadata": {
        "id": "c091a757-0897-4f09-a5fb-e2acc5cc4e35"
      },
      "source": [
        "Create a list of squares of numbers from 1 to 10 using list comprehension.\n"
      ]
    },
    {
      "cell_type": "code",
      "execution_count": null,
      "id": "29269ce8-4c34-4267-807c-148d3b11c3bd",
      "metadata": {
        "id": "29269ce8-4c34-4267-807c-148d3b11c3bd",
        "outputId": "0969647d-3884-4417-b9ee-a591f1de16bd"
      },
      "outputs": [
        {
          "data": {
            "text/plain": [
              "[1, 4, 9, 16, 25, 36, 49, 64, 81]"
            ]
          },
          "execution_count": 4,
          "metadata": {},
          "output_type": "execute_result"
        }
      ],
      "source": [
        "l=[1,2,3,4,5]\n",
        "[i**2 for i in range(1,10)]"
      ]
    },
    {
      "cell_type": "markdown",
      "id": "5ce327bd-f9db-4e70-88a1-d15149dacb43",
      "metadata": {
        "id": "5ce327bd-f9db-4e70-88a1-d15149dacb43"
      },
      "source": [
        "Generate a list of even numbers from 1 to 20 using list comprehension.\n"
      ]
    },
    {
      "cell_type": "code",
      "execution_count": null,
      "id": "455951b4-69bb-4c2a-8fb9-3471c01d5fea",
      "metadata": {
        "id": "455951b4-69bb-4c2a-8fb9-3471c01d5fea",
        "outputId": "09746d7a-5366-4d10-d03e-5d6dfa556f7b"
      },
      "outputs": [
        {
          "data": {
            "text/plain": [
              "[2, 4, 6, 8, 10, 12, 14, 16, 18]"
            ]
          },
          "execution_count": 7,
          "metadata": {},
          "output_type": "execute_result"
        }
      ],
      "source": [
        "l=[]\n",
        "[i for i in range(1,20) if i%2==0]"
      ]
    },
    {
      "cell_type": "markdown",
      "id": "6a76a6fb-9bb5-4730-bd7e-0100ce9e4d11",
      "metadata": {
        "id": "6a76a6fb-9bb5-4730-bd7e-0100ce9e4d11"
      },
      "source": [
        "Create a list of the first letters of each word in the list: [\"apple\", \"banana\", \"cherry\", \"date\"].\n"
      ]
    },
    {
      "cell_type": "code",
      "execution_count": null,
      "id": "3f4646f8-43f7-410d-84de-190a58348979",
      "metadata": {
        "id": "3f4646f8-43f7-410d-84de-190a58348979",
        "outputId": "eb089b70-29d1-48f4-d4ce-1c3a8f47bbcd"
      },
      "outputs": [
        {
          "name": "stdout",
          "output_type": "stream",
          "text": [
            "['a', 'b', 'c', 'd']\n"
          ]
        }
      ],
      "source": [
        "l =[\"apple\", \"banana\", \"cherry\", \"date\"]\n",
        "letter=[word[0] for word in l]\n",
        "print(letter)"
      ]
    },
    {
      "cell_type": "markdown",
      "id": "bbb2fd4d-2563-46e2-83cd-b9dcbd90b84b",
      "metadata": {
        "id": "bbb2fd4d-2563-46e2-83cd-b9dcbd90b84b"
      },
      "source": [
        "Convert a list of temperatures in Celsius [0, 10, 20, 30, 40] to Fahrenheit using list comprehension. (Formula: F = (C * 9/5) + 32)\n"
      ]
    },
    {
      "cell_type": "code",
      "execution_count": null,
      "id": "55016467-0734-4b94-b6d0-d26a306b8b05",
      "metadata": {
        "id": "55016467-0734-4b94-b6d0-d26a306b8b05",
        "outputId": "b5256b88-490f-4776-fe19-24eeeead7e39"
      },
      "outputs": [
        {
          "name": "stdout",
          "output_type": "stream",
          "text": [
            "[32.0, 50.0, 68.0, 86.0, 104.0]\n"
          ]
        }
      ],
      "source": [
        "celsius = [0, 10, 20, 30, 40]\n",
        "fahrenheit = [(c * 9/5) + 32 for c in celsius]\n",
        "print(fahrenheit)\n"
      ]
    },
    {
      "cell_type": "markdown",
      "id": "8833fe1b-b676-47c6-a593-eaf155df54e7",
      "metadata": {
        "id": "8833fe1b-b676-47c6-a593-eaf155df54e7"
      },
      "source": [
        "Create a list of the first 10 natural numbers using list comprehension.\n"
      ]
    },
    {
      "cell_type": "code",
      "execution_count": null,
      "id": "9700e141-e4ba-43be-93db-608d2b772e91",
      "metadata": {
        "id": "9700e141-e4ba-43be-93db-608d2b772e91",
        "outputId": "f0af8067-89e0-4d93-8996-082e14d10a29"
      },
      "outputs": [
        {
          "data": {
            "text/plain": [
              "[1, 2, 3, 4, 5, 6, 7, 8, 9, 10]"
            ]
          },
          "execution_count": 21,
          "metadata": {},
          "output_type": "execute_result"
        }
      ],
      "source": [
        "l=[]\n",
        "[i for i in range(1,11)]"
      ]
    },
    {
      "cell_type": "markdown",
      "id": "971fde86-4be3-45fe-8098-0c8b617faf6e",
      "metadata": {
        "id": "971fde86-4be3-45fe-8098-0c8b617faf6e"
      },
      "source": [
        "Generate a list of cubes of numbers from 1 to 10.\n"
      ]
    },
    {
      "cell_type": "code",
      "execution_count": null,
      "id": "40a5aca0-8039-4038-9e83-84cdd2f2b343",
      "metadata": {
        "id": "40a5aca0-8039-4038-9e83-84cdd2f2b343",
        "outputId": "69ea9be9-d6f3-4d8e-afd1-98aa510205b7"
      },
      "outputs": [
        {
          "name": "stdout",
          "output_type": "stream",
          "text": [
            "[1, 8, 27, 64, 125, 216, 343, 512, 729, 1000]\n"
          ]
        }
      ],
      "source": [
        "l=[i**3 for i in range(1,11)]\n",
        "print(l)"
      ]
    },
    {
      "cell_type": "markdown",
      "id": "5d5b35c9-20e8-42c6-acab-2b65211b2889",
      "metadata": {
        "id": "5d5b35c9-20e8-42c6-acab-2b65211b2889"
      },
      "source": [
        "Extract the first character from each word in the list: [\"apple\", \"banana\", \"cherry\", \"date\"].\n"
      ]
    },
    {
      "cell_type": "markdown",
      "id": "eb867a30-7fed-4fae-a654-9473e893eeda",
      "metadata": {
        "id": "eb867a30-7fed-4fae-a654-9473e893eeda"
      },
      "source": [
        "Given a string \"Python is fun\", create a list of words in the string.\n"
      ]
    },
    {
      "cell_type": "code",
      "execution_count": null,
      "id": "1d3274fc-60e6-4a96-84cd-fdf7b872e7e1",
      "metadata": {
        "id": "1d3274fc-60e6-4a96-84cd-fdf7b872e7e1",
        "outputId": "403d68be-731d-46b9-c3cc-79fec0ae8820"
      },
      "outputs": [
        {
          "data": {
            "text/plain": [
              "['python', 'is', 'fun']"
            ]
          },
          "execution_count": 6,
          "metadata": {},
          "output_type": "execute_result"
        }
      ],
      "source": [
        "s=\"python is fun\"\n",
        "[word for word in s.split()]\n",
        "\n"
      ]
    },
    {
      "cell_type": "markdown",
      "id": "8a6d14e9-b064-474d-b491-15f93b0e67ba",
      "metadata": {
        "id": "8a6d14e9-b064-474d-b491-15f93b0e67ba"
      },
      "source": [
        "Convert a list of strings [\"Hello\", \"World\", \"Python\"] to uppercase using list comprehension.\n"
      ]
    },
    {
      "cell_type": "code",
      "execution_count": null,
      "id": "2dfe31a0-8ee0-4709-b48b-36926385ab8c",
      "metadata": {
        "id": "2dfe31a0-8ee0-4709-b48b-36926385ab8c",
        "outputId": "95f23679-344f-41f5-edbd-1673c253e275"
      },
      "outputs": [
        {
          "data": {
            "text/plain": [
              "['HELLO', 'WORLD', 'PYTHON']"
            ]
          },
          "execution_count": 11,
          "metadata": {},
          "output_type": "execute_result"
        }
      ],
      "source": [
        "s= [\"Hello\", \"World\", \"Python\"]\n",
        "[word.upper() for word in s]"
      ]
    },
    {
      "cell_type": "markdown",
      "id": "2fb0e019-5d2f-4d91-848f-aa70ed16bfc5",
      "metadata": {
        "id": "2fb0e019-5d2f-4d91-848f-aa70ed16bfc5"
      },
      "source": [
        "Create a list of numbers from 1 to 50 that are divisible by both 3 and 5.\n"
      ]
    },
    {
      "cell_type": "code",
      "execution_count": null,
      "id": "50a1a009-3211-40fc-9c1a-dae94f2da9e6",
      "metadata": {
        "id": "50a1a009-3211-40fc-9c1a-dae94f2da9e6",
        "outputId": "fc960dcc-e815-4822-f0df-62d27b282db7"
      },
      "outputs": [
        {
          "data": {
            "text/plain": [
              "[15, 30, 45]"
            ]
          },
          "execution_count": 14,
          "metadata": {},
          "output_type": "execute_result"
        }
      ],
      "source": [
        "[i for i in range(1,50) if i%3==0 and i%5==0]"
      ]
    },
    {
      "cell_type": "markdown",
      "id": "1e8d0df0-3130-4d40-8201-e2ccafe8b589",
      "metadata": {
        "id": "1e8d0df0-3130-4d40-8201-e2ccafe8b589"
      },
      "source": [
        "Given a list of numbers [1, 2, 3, 4, 5, 6, 7, 8, 9, 10], create a new list containing only the odd numbers.\n"
      ]
    },
    {
      "cell_type": "code",
      "execution_count": null,
      "id": "6574f383-5b52-48bb-85d6-f3ff76a1118c",
      "metadata": {
        "id": "6574f383-5b52-48bb-85d6-f3ff76a1118c",
        "outputId": "3187d915-217f-4a63-ef1a-6038d523c5cd"
      },
      "outputs": [
        {
          "name": "stdout",
          "output_type": "stream",
          "text": [
            "[1, 3, 5, 7, 9]\n"
          ]
        }
      ],
      "source": [
        "l = [1, 2, 3, 4, 5, 6, 7, 8, 9, 10]\n",
        "l1 = [i for i in l if i % 2 != 0]\n",
        "print(l1)\n"
      ]
    },
    {
      "cell_type": "markdown",
      "id": "a53de7d2-5f63-4827-9d79-954f0efef38e",
      "metadata": {
        "id": "a53de7d2-5f63-4827-9d79-954f0efef38e"
      },
      "source": [
        "Given a string \"hello world\", create a list of vowels present in the string.\n"
      ]
    },
    {
      "cell_type": "code",
      "execution_count": null,
      "id": "29cd6430-1d77-4da2-98e6-b6f9289ce220",
      "metadata": {
        "id": "29cd6430-1d77-4da2-98e6-b6f9289ce220",
        "outputId": "2e45cc10-dde7-4c2b-9bbd-f7a7213466c1"
      },
      "outputs": [
        {
          "name": "stdout",
          "output_type": "stream",
          "text": [
            "['e', 'o', 'o']\n"
          ]
        }
      ],
      "source": [
        "s=\"hello world\"\n",
        "vowels=\"aeiou\"\n",
        "list=[char for char in s if char in vowels]\n",
        "print(list)"
      ]
    },
    {
      "cell_type": "markdown",
      "id": "55e4e43f-0013-478d-abbd-7cbe647f30dc",
      "metadata": {
        "id": "55e4e43f-0013-478d-abbd-7cbe647f30dc"
      },
      "source": [
        "Convert a list of words [\"Hello\", \"WORLD\", \"Python\", \"LiSt\"] to lowercase using list comprehension.\n"
      ]
    },
    {
      "cell_type": "code",
      "execution_count": null,
      "id": "1cc7d6d2-0b3d-49aa-830b-c20aab1b8d9f",
      "metadata": {
        "id": "1cc7d6d2-0b3d-49aa-830b-c20aab1b8d9f",
        "outputId": "d38fa57c-070f-4619-bdce-8149c67321ae"
      },
      "outputs": [
        {
          "data": {
            "text/plain": [
              "['hello', 'world', 'python', 'list']"
            ]
          },
          "execution_count": 25,
          "metadata": {},
          "output_type": "execute_result"
        }
      ],
      "source": [
        "s=[\"Hello\", \"WORLD\", \"Python\", \"LiSt\"]\n",
        "[word.lower() for word in s]"
      ]
    },
    {
      "cell_type": "markdown",
      "id": "7ca0eb6b-7e12-4ffb-87d6-0a9500366010",
      "metadata": {
        "id": "7ca0eb6b-7e12-4ffb-87d6-0a9500366010"
      },
      "source": [
        "Create a list of even numbers from 1 to 50.\n"
      ]
    },
    {
      "cell_type": "code",
      "execution_count": null,
      "id": "85499ed1-bc30-44b0-9a2c-76c4dfb577b8",
      "metadata": {
        "id": "85499ed1-bc30-44b0-9a2c-76c4dfb577b8",
        "outputId": "8d2c1bee-fade-4046-ab0b-89e9daed8492"
      },
      "outputs": [
        {
          "name": "stdout",
          "output_type": "stream",
          "text": [
            "[2, 4, 6, 8, 10, 12, 14, 16, 18, 20, 22, 24, 26, 28, 30, 32, 34, 36, 38, 40, 42, 44, 46, 48, 50]\n"
          ]
        }
      ],
      "source": [
        "list=[i for i in range(1,51) if i%2==0]\n",
        "print(list)"
      ]
    },
    {
      "cell_type": "markdown",
      "id": "ba729d26-5a00-4d58-8988-0c234e2fd810",
      "metadata": {
        "id": "ba729d26-5a00-4d58-8988-0c234e2fd810"
      },
      "source": [
        "Generate a list of numbers from 1 to 20 that are not divisible by 3.\n"
      ]
    },
    {
      "cell_type": "code",
      "execution_count": null,
      "id": "cc5357f5-fbc8-4418-9fab-06c4f531ed86",
      "metadata": {
        "id": "cc5357f5-fbc8-4418-9fab-06c4f531ed86",
        "outputId": "34e02fef-1ac7-4498-b48b-cfc7417c5132"
      },
      "outputs": [
        {
          "name": "stdout",
          "output_type": "stream",
          "text": [
            "[1, 2, 4, 5, 7, 8, 10, 11, 13, 14, 16, 17, 19, 20]\n"
          ]
        }
      ],
      "source": [
        "list=[i for i in range(1,21) if i%3!=0]\n",
        "print(list)"
      ]
    },
    {
      "cell_type": "markdown",
      "id": "8f8080ef-74de-4ef3-9975-69046e67a709",
      "metadata": {
        "id": "8f8080ef-74de-4ef3-9975-69046e67a709"
      },
      "source": [
        "Create a list of squares of only the even numbers from 1 to 10.\n"
      ]
    },
    {
      "cell_type": "code",
      "execution_count": null,
      "id": "0297cf6b-361d-4d66-9c8c-01adfc27a9df",
      "metadata": {
        "id": "0297cf6b-361d-4d66-9c8c-01adfc27a9df",
        "outputId": "0d085100-d9cc-403e-b4a4-b22364c4b36a"
      },
      "outputs": [
        {
          "name": "stdout",
          "output_type": "stream",
          "text": [
            "[1, 4, 9, 16, 25, 36, 49, 64, 81, 100]\n"
          ]
        }
      ],
      "source": [
        "square=[i**2 for i in range(1,11)]\n",
        "print(square)"
      ]
    },
    {
      "cell_type": "markdown",
      "id": "a01831fe-4bca-4019-a8dd-0c6778d143fe",
      "metadata": {
        "id": "a01831fe-4bca-4019-a8dd-0c6778d143fe"
      },
      "source": [
        "Given a list of words [\"dog\", \"elephant\", \"cat\", \"rabbit\"], create a new list containing only words with more than 3 letters."
      ]
    },
    {
      "cell_type": "code",
      "execution_count": null,
      "id": "748dc4fa-4dab-42d2-a081-1eb20f926ef2",
      "metadata": {
        "id": "748dc4fa-4dab-42d2-a081-1eb20f926ef2",
        "outputId": "931fa8b3-c772-4f60-bfc9-53d4c3e3e32c"
      },
      "outputs": [
        {
          "name": "stdout",
          "output_type": "stream",
          "text": [
            "['elephant', 'rabbit']\n"
          ]
        }
      ],
      "source": [
        "words=[\"dog\", \"elephant\", \"cat\", \"rabbit\"]\n",
        "new=[word for word in words if len(word)>3]\n",
        "print(new)"
      ]
    },
    {
      "cell_type": "code",
      "execution_count": null,
      "id": "5e21ec09-7ac9-4230-a21c-9e89499f502c",
      "metadata": {
        "id": "5e21ec09-7ac9-4230-a21c-9e89499f502c"
      },
      "outputs": [],
      "source": []
    }
  ],
  "metadata": {
    "kernelspec": {
      "display_name": "Python 3 (ipykernel)",
      "language": "python",
      "name": "python3"
    },
    "language_info": {
      "codemirror_mode": {
        "name": "ipython",
        "version": 3
      },
      "file_extension": ".py",
      "mimetype": "text/x-python",
      "name": "python",
      "nbconvert_exporter": "python",
      "pygments_lexer": "ipython3",
      "version": "3.13.5"
    },
    "colab": {
      "provenance": []
    }
  },
  "nbformat": 4,
  "nbformat_minor": 5
}