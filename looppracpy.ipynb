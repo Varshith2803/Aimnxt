{
  "nbformat": 4,
  "nbformat_minor": 0,
  "metadata": {
    "colab": {
      "provenance": [],
      "toc_visible": true
    },
    "kernelspec": {
      "name": "python3",
      "display_name": "Python 3"
    },
    "language_info": {
      "name": "python"
    }
  },
  "cells": [
    {
      "cell_type": "code",
      "execution_count": 4,
      "metadata": {
        "id": "3ORvkE4H4kAw",
        "colab": {
          "base_uri": "https://localhost:8080/"
        },
        "outputId": "80a511ed-3f2f-43ed-dc07-9459216baf02"
      },
      "outputs": [
        {
          "output_type": "stream",
          "name": "stdout",
          "text": [
            "[12.5, 23.0, 56.78]\n"
          ]
        }
      ],
      "source": [
        "# Filter Floats from a List Write a program that extracts all the floating-point numbers from a list containing mixed data types. The program should create a new list containing only the floats.\n",
        "#Example Input: l = [12.5, 45, \"hello\", 23.0, 56.78, 90, \"world\"]\n",
        "#Expected Output:[12.5, 23.0, 56.78]\n",
        "l = [12.5, 45, \"hello\", 23.0, 56.78, 90, \"world\"]\n",
        "l1 = []\n",
        "for i in l:\n",
        "    if type(i) == float:\n",
        "        l1.append(i)\n",
        "print(l1)"
      ]
    },
    {
      "cell_type": "code",
      "source": [
        "#Filter Strings from a List Write a program to extract all the string elements from a mixed list and store them in a new list.\n",
        "#Example Input:l = [1, \"Python\", 3.14, \"Coding\", 42, \"AI\"]\n",
        "#Expected Output:[\"Python\", \"Coding\", \"AI\"]\n",
        "l = [1, \"Python\", 3.14, \"Coding\", 42, \"AI\"]\n",
        "l1 = []\n",
        "for i in l:\n",
        "    if type(i) == str:\n",
        "        l1.append(i)\n",
        "print(l1)"
      ],
      "metadata": {
        "id": "HF5jpw6G57PV",
        "colab": {
          "base_uri": "https://localhost:8080/"
        },
        "outputId": "57b2cf6b-bcb5-4ab2-c6ef-fad7df9794db"
      },
      "execution_count": 5,
      "outputs": [
        {
          "output_type": "stream",
          "name": "stdout",
          "text": [
            "['Python', 'Coding', 'AI']\n"
          ]
        }
      ]
    },
    {
      "cell_type": "code",
      "source": [
        "#Filter Non-Integers from a List Write a program to create a new list that contains all elements from a given list except for integers.\n",
        "#Example Input:l = [1, 2, 3, \"data\", 4.5, True, None]\n",
        "#Expected Output:[\"data\", 4.5, True, None]\n",
        "l = [1, 2, 3, \"data\", 4.5, True, None]\n",
        "l1 = []\n",
        "for i in l:\n",
        "    if type(i) != int:\n",
        "        l1.append(i)\n",
        "print(l1)"
      ],
      "metadata": {
        "id": "pdfFJki957av",
        "colab": {
          "base_uri": "https://localhost:8080/"
        },
        "outputId": "ea782c8d-3a5e-44e0-93e6-032ab6d6beb1"
      },
      "execution_count": 6,
      "outputs": [
        {
          "output_type": "stream",
          "name": "stdout",
          "text": [
            "['data', 4.5, True, None]\n"
          ]
        }
      ]
    },
    {
      "cell_type": "code",
      "source": [
        "#Filter Boolean Values from a List Write a program to extract all the boolean values (True or False) from a mixed list.\n",
        "#Example Input:l = [True, 42, \"yes\", False, 3.14, \"AI\"]\n",
        "#Expected Output:[True, False]\n",
        "l = [True, 42, \"yes\", False, 3.14, \"AI\"]\n",
        "l1 = []\n",
        "for i in l:\n",
        "    if type(i) == bool:\n",
        "        l1.append(i)\n",
        "print(l1)"
      ],
      "metadata": {
        "id": "hXzvR0sm57d4",
        "colab": {
          "base_uri": "https://localhost:8080/"
        },
        "outputId": "3c7d55ee-fd27-442a-9cce-31d06bc8e423"
      },
      "execution_count": 7,
      "outputs": [
        {
          "output_type": "stream",
          "name": "stdout",
          "text": [
            "[True, False]\n"
          ]
        }
      ]
    },
    {
      "cell_type": "code",
      "source": [
        "#Filter Even Integers from a List Write a program that filters only the even integers from a mixed list and stores them in a new list.\n",
        "#Example Input:l = [1, 2, 3, 4, 5, 6, \"even\", 7.8]\n",
        "#Expected Output:[2, 4, 6]\n",
        "l = [1, 2, 3, 4, 5, 6, \"even\", 7.8]\n",
        "l1 = []\n",
        "for i in l:\n",
        "    if type(i) == int:\n",
        "        if i % 2 == 0:\n",
        "            l1.append(i)\n",
        "print(l1)"
      ],
      "metadata": {
        "id": "tQcTM6N757hh",
        "colab": {
          "base_uri": "https://localhost:8080/"
        },
        "outputId": "4169cdf9-07cc-47fe-c35a-1d8b2b0f3a7b"
      },
      "execution_count": 8,
      "outputs": [
        {
          "output_type": "stream",
          "name": "stdout",
          "text": [
            "[2, 4, 6]\n"
          ]
        }
      ]
    },
    {
      "cell_type": "code",
      "source": [
        "#Filter Odd Integers from a List Write a program that extracts only the odd integers from a mixed list into a new list.\n",
        "#Example Input:l = [10, 21, 32, 43, \"odd\", 54, 65]\n",
        "#Expected Output:[21, 43, 65]\n",
        "l = [10, 21, 32, 43, \"odd\", 54, 65]\n",
        "l1 = []\n",
        "for i in l:\n",
        "    if type(i) == int:\n",
        "        if i % 2 != 0:\n",
        "            l1.append(i)\n",
        "print(l1)"
      ],
      "metadata": {
        "id": "pyKnSK6P57kk",
        "colab": {
          "base_uri": "https://localhost:8080/"
        },
        "outputId": "2605e6d7-8cab-414e-f2db-ac6a670c4afb"
      },
      "execution_count": 9,
      "outputs": [
        {
          "output_type": "stream",
          "name": "stdout",
          "text": [
            "[21, 43, 65]\n"
          ]
        }
      ]
    },
    {
      "cell_type": "code",
      "source": [
        "#Filter Elements of a Specific Length Write a program to filter all string elements with a length greater than 4 characters from a mixed list.\n",
        "#Example Input:l = [\"apple\", \"AI\", 123, \"data\", \"hello\", 3.14]\n",
        "#Expected Output:[\"apple\", \"hello\"]\n",
        "l = [\"apple\", \"AI\", 123, \"data\", \"hello\", 3.14]\n",
        "l1 = []\n",
        "for i in l:\n",
        "    if type(i) == str:\n",
        "        if len(i) > 4:\n",
        "            l1.append(i)\n",
        "print(l1)"
      ],
      "metadata": {
        "id": "tu9qzZgO57oA",
        "colab": {
          "base_uri": "https://localhost:8080/"
        },
        "outputId": "3708b639-9290-424b-a6eb-739895fb764f"
      },
      "execution_count": 10,
      "outputs": [
        {
          "output_type": "stream",
          "name": "stdout",
          "text": [
            "['apple', 'hello']\n"
          ]
        }
      ]
    },
    {
      "cell_type": "code",
      "source": [
        "#Filter None Values Write a program to remove all None values from a mixed list and store the remaining elements in a new list.\n",
        "#Example Input:l = [1, None, \"Python\", None, 45.6, \"data\"]\n",
        "#Expected Output:[1, \"Python\", 45.6, \"data\"]\n",
        "l = [1, None, \"Python\", None, 45.6, \"data\"]\n",
        "l1 = []\n",
        "for i in l:\n",
        "    if i != None:\n",
        "        l1.append(i)\n",
        "print(l1)"
      ],
      "metadata": {
        "colab": {
          "base_uri": "https://localhost:8080/"
        },
        "id": "tVoxq6VBxLzz",
        "outputId": "5fdd3f5f-ed07-4836-f186-b84d5592e0ce"
      },
      "execution_count": 11,
      "outputs": [
        {
          "output_type": "stream",
          "name": "stdout",
          "text": [
            "[1, 'Python', 45.6, 'data']\n"
          ]
        }
      ]
    },
    {
      "cell_type": "code",
      "source": [
        "#Filter Alphabetic Strings Only Write a program that extracts only alphabetic strings (strings without numbers or special characters) from a mixed list.\n",
        "#Example Input:l = [\"AI\", \"Data123\", \"hello!\", \"world\", 42, \"Python3\"]\n",
        "#Expected Output:[\"AI\", \"world\"]\n",
        "l = [\"AI\", \"Data123\", \"hello!\", \"world\", 42, \"Python3\"]\n",
        "l1 = []\n",
        "for i in l:\n",
        "    if type(i) == str:\n",
        "        if i.isalpha():\n",
        "            l1.append(i)\n",
        "print(l1)"
      ],
      "metadata": {
        "colab": {
          "base_uri": "https://localhost:8080/"
        },
        "id": "tYHVlIznxL8k",
        "outputId": "177cfaa0-be2d-4ef2-ec9b-d6f6dcb59b9b"
      },
      "execution_count": 12,
      "outputs": [
        {
          "output_type": "stream",
          "name": "stdout",
          "text": [
            "['AI', 'world']\n"
          ]
        }
      ]
    },
    {
      "cell_type": "code",
      "source": [
        "#Filter Elements of Specific Data Type Write a program that asks the user to input a data type (e.g., int, float, str) and filters elements of that type from a given mixed list.\n",
        "#Example Input:l = [1, 2.5, \"hello\", 3, 4.0, \"world\"]\n",
        "#Data type to filter: float\n",
        "#Expected Output:[2.5, 4.0]\n",
        "l = [1, 2.5, \"hello\", 3, 4.0, \"world\"]\n",
        "l1 = []\n",
        "for i in l:\n",
        "    if type(i) == float:\n",
        "        l1.append(i)\n",
        "print(l1)"
      ],
      "metadata": {
        "colab": {
          "base_uri": "https://localhost:8080/"
        },
        "id": "SDOM4qIbxME8",
        "outputId": "7adacc88-4572-403c-fcac-441aca94caf5"
      },
      "execution_count": 13,
      "outputs": [
        {
          "output_type": "stream",
          "name": "stdout",
          "text": [
            "[2.5, 4.0]\n"
          ]
        }
      ]
    }
  ]
}