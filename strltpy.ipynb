{
  "nbformat": 4,
  "nbformat_minor": 0,
  "metadata": {
    "colab": {
      "provenance": []
    },
    "kernelspec": {
      "name": "python3",
      "display_name": "Python 3"
    },
    "language_info": {
      "name": "python"
    }
  },
  "cells": [
    {
      "cell_type": "code",
      "execution_count": null,
      "metadata": {
        "colab": {
          "base_uri": "https://localhost:8080/"
        },
        "id": "ea6_XU3-LGe2",
        "outputId": "9a35c05b-f5ab-4278-d654-efc0fb92aa42"
      },
      "outputs": [
        {
          "output_type": "stream",
          "name": "stdout",
          "text": [
            "this is a sample.\n",
            "17\n"
          ]
        }
      ],
      "source": [
        "#create a string variable and print its length.\n",
        "str = \"this is a sample.\"\n",
        "print(str)\n",
        "str_len = len(str)\n",
        "print(str_len)"
      ]
    },
    {
      "cell_type": "code",
      "source": [
        "#take a string input from the user and print it in reverse.\n",
        "str = input(\"Enter a string: \")\n",
        "print(str[::-1])"
      ],
      "metadata": {
        "colab": {
          "base_uri": "https://localhost:8080/"
        },
        "id": "TaI8E7MhMIda",
        "outputId": "602513fc-c1e9-4139-8068-aabb30b2f327"
      },
      "execution_count": null,
      "outputs": [
        {
          "output_type": "stream",
          "name": "stdout",
          "text": [
            "Enter a string: varshith\n",
            "htihsrav\n"
          ]
        }
      ]
    },
    {
      "cell_type": "code",
      "source": [
        "#Replace all occurrences of\"a\" with \"@\" in a given string.\n",
        "str = input(\"Enter a string: \")\n",
        "str = str.replace(\"a\",\"@\")\n",
        "print(str)"
      ],
      "metadata": {
        "colab": {
          "base_uri": "https://localhost:8080/"
        },
        "id": "jcbmVT-tMbOp",
        "outputId": "353e672d-2e10-495a-f879-02f5d8360034"
      },
      "execution_count": null,
      "outputs": [
        {
          "output_type": "stream",
          "name": "stdout",
          "text": [
            "Enter a string: banana\n",
            "b@n@n@\n"
          ]
        }
      ]
    },
    {
      "cell_type": "code",
      "source": [
        "#convert a string to all upper case letters using a loop(without .upper()).\n",
        "def to_uppercase(s):\n",
        "    result= \"\"\n",
        "    for char in s:\n",
        "        if 'a' <= char <= 'z':\n",
        "            upper_char = chr(ord(char) - 32)\n",
        "            result += upper_char\n",
        "        else:\n",
        "            result += char\n",
        "    return result\n",
        "input_str = input(\"Enter a string: \")\n",
        "output_str = to_uppercase(input_str)\n",
        "print(output_str)"
      ],
      "metadata": {
        "colab": {
          "base_uri": "https://localhost:8080/"
        },
        "id": "cX7m0mXJNVqq",
        "outputId": "c527a3e4-12f7-469a-da56-413fc300d652"
      },
      "execution_count": null,
      "outputs": [
        {
          "output_type": "stream",
          "name": "stdout",
          "text": [
            "Enter a string: helloworld\n",
            "HELLOWORLD\n"
          ]
        }
      ]
    },
    {
      "cell_type": "code",
      "source": [
        "#count how many times the letter \"e\" appears in a string.\n",
        "str = \"the quick brown fox jumps over the lazy dog.\"\n",
        "char_to_find =\"e\"\n",
        "count = str.count(char_to_find)\n",
        "print(f\"the character '{char_to_find}' appears {count}times in the string.\")"
      ],
      "metadata": {
        "colab": {
          "base_uri": "https://localhost:8080/"
        },
        "id": "yIZ2af2WQMjF",
        "outputId": "658f25b3-8626-4cb8-8220-164c3ca62d05"
      },
      "execution_count": null,
      "outputs": [
        {
          "output_type": "stream",
          "name": "stdout",
          "text": [
            "the character 'e' appears 3times in the string.\n"
          ]
        }
      ]
    },
    {
      "cell_type": "code",
      "source": [
        "# print the first and last character of a given string\n",
        "str = input(\"Enter a string: \")\n",
        "first_char = str[0]\n",
        "last_char = str[-1]\n",
        "print(f\"First character: {first_char}\")\n",
        "print(f\"Last character: {last_char}\")"
      ],
      "metadata": {
        "colab": {
          "base_uri": "https://localhost:8080/"
        },
        "id": "omBa2T63POd_",
        "outputId": "2ecd6e53-b40d-4462-a8a4-d09de85a4757"
      },
      "execution_count": 1,
      "outputs": [
        {
          "output_type": "stream",
          "name": "stdout",
          "text": [
            "Enter a string: artificial\n",
            "First character: a\n",
            "Last character: l\n"
          ]
        }
      ]
    },
    {
      "cell_type": "code",
      "source": [
        "#concatenate two strings and print the result.\n",
        "str1 = input(\"Enter a string: \")\n",
        "str2 = input(\"Enter a string: \")\n",
        "result = str1 + str2\n",
        "print(result)"
      ],
      "metadata": {
        "colab": {
          "base_uri": "https://localhost:8080/"
        },
        "id": "6Wpan4OMPOx6",
        "outputId": "59c2665a-0ea3-4887-eb6e-3c5c0beaea83"
      },
      "execution_count": 2,
      "outputs": [
        {
          "output_type": "stream",
          "name": "stdout",
          "text": [
            "Enter a string: data\n",
            "Enter a string: science\n",
            "datascience\n"
          ]
        }
      ]
    },
    {
      "cell_type": "code",
      "source": [
        "#check if a given string contains the word \"python\".\n",
        "str = input(\"Enter a string: \")\n",
        "if \"python\" in str:\n",
        "    print(\"The string contains the word 'python'.\")\n",
        "else:\n",
        "    print(\"The string does not contain the word 'python'.\")"
      ],
      "metadata": {
        "colab": {
          "base_uri": "https://localhost:8080/"
        },
        "id": "AHSA9EPoPO1X",
        "outputId": "cc66f9b5-3798-450e-87c7-086d747c3dfb"
      },
      "execution_count": 4,
      "outputs": [
        {
          "output_type": "stream",
          "name": "stdout",
          "text": [
            "Enter a string: data science\n",
            "The string does not contain the word 'python'.\n"
          ]
        }
      ]
    },
    {
      "cell_type": "code",
      "source": [
        "#remove all spaces from a string and print the new string.\n",
        "str = input(\"Enter a string: \")\n",
        "str = str.replace(\" \",\"\")\n",
        "print(str)"
      ],
      "metadata": {
        "colab": {
          "base_uri": "https://localhost:8080/"
        },
        "id": "0a7tpkgwPO_C",
        "outputId": "93a7675d-dabb-47fd-d2f8-c2e3c7431013"
      },
      "execution_count": 5,
      "outputs": [
        {
          "output_type": "stream",
          "name": "stdout",
          "text": [
            "Enter a string: reddy\n",
            "reddy\n"
          ]
        }
      ]
    },
    {
      "cell_type": "code",
      "source": [
        "#Extract and print the first five characters of the string.\n",
        "str = input(\"Enter a string: \")\n",
        "print(str[:5])"
      ],
      "metadata": {
        "colab": {
          "base_uri": "https://localhost:8080/"
        },
        "id": "G8loqdOJPPLy",
        "outputId": "739d913c-88dd-4d27-8753-f6bb52ef0b2a"
      },
      "execution_count": 6,
      "outputs": [
        {
          "output_type": "stream",
          "name": "stdout",
          "text": [
            "Enter a string: powerbi\n",
            "power\n"
          ]
        }
      ]
    },
    {
      "cell_type": "code",
      "source": [
        "#create a list of five numbers and print the list.\n",
        "list = [1,2,3,4,5]\n",
        "print(list)"
      ],
      "metadata": {
        "colab": {
          "base_uri": "https://localhost:8080/"
        },
        "id": "r1hBE_V4PPVr",
        "outputId": "4c865a05-4177-481d-d712-c34a521bdb74"
      },
      "execution_count": 7,
      "outputs": [
        {
          "output_type": "stream",
          "name": "stdout",
          "text": [
            "[1, 2, 3, 4, 5]\n"
          ]
        }
      ]
    },
    {
      "cell_type": "code",
      "source": [
        "#print the third element of a given list.\n",
        "list = [1,2,3,4,5]\n",
        "print(list[2])"
      ],
      "metadata": {
        "colab": {
          "base_uri": "https://localhost:8080/"
        },
        "id": "ZkPX35r2Roxf",
        "outputId": "4985055e-cb38-44fb-cf08-4c130d12a314"
      },
      "execution_count": 8,
      "outputs": [
        {
          "output_type": "stream",
          "name": "stdout",
          "text": [
            "3\n"
          ]
        }
      ]
    },
    {
      "cell_type": "code",
      "source": [
        "#Replace the second element of a list with \"hello\".\n",
        "list = [1,2,3,4,5]\n",
        "list[1] = \"hello\"\n",
        "print(list)"
      ],
      "metadata": {
        "colab": {
          "base_uri": "https://localhost:8080/"
        },
        "id": "KBp7wKBzRo-P",
        "outputId": "aa94e536-9963-4c5a-d5ea-9369ae38086b"
      },
      "execution_count": 9,
      "outputs": [
        {
          "output_type": "stream",
          "name": "stdout",
          "text": [
            "[1, 'hello', 3, 4, 5]\n"
          ]
        }
      ]
    },
    {
      "cell_type": "code",
      "source": [
        "#add a new element to the end of a list.\n",
        "list = [1,2,3,4,5]\n",
        "list.append(6)\n",
        "print(list)"
      ],
      "metadata": {
        "colab": {
          "base_uri": "https://localhost:8080/"
        },
        "id": "r5u2qMLLRpDU",
        "outputId": "878e2e53-1fae-4ff0-8c55-7550b6521fad"
      },
      "execution_count": 12,
      "outputs": [
        {
          "output_type": "stream",
          "name": "stdout",
          "text": [
            "[1, 2, 3, 4, 5, 6]\n"
          ]
        }
      ]
    },
    {
      "cell_type": "code",
      "source": [
        "#remove the last element from a list and print the modified list.\n",
        "list = [1,2,3,4,5]\n",
        "list.pop()\n",
        "print(list)"
      ],
      "metadata": {
        "colab": {
          "base_uri": "https://localhost:8080/"
        },
        "id": "_4A0bv8pRpGU",
        "outputId": "26d7c385-d267-48be-cc71-f1b40bc91e83"
      },
      "execution_count": 13,
      "outputs": [
        {
          "output_type": "stream",
          "name": "stdout",
          "text": [
            "[1, 2, 3, 4]\n"
          ]
        }
      ]
    },
    {
      "cell_type": "code",
      "source": [
        "#Print each element of a list one by one using a loop.\n",
        "list = [1,2,3,4,5]\n",
        "for i in list:\n",
        "    print(i)"
      ],
      "metadata": {
        "colab": {
          "base_uri": "https://localhost:8080/"
        },
        "id": "gsacj9GmRpJO",
        "outputId": "e4e57204-1725-4ca2-ec7f-c2c153a2a309"
      },
      "execution_count": 14,
      "outputs": [
        {
          "output_type": "stream",
          "name": "stdout",
          "text": [
            "1\n",
            "2\n",
            "3\n",
            "4\n",
            "5\n"
          ]
        }
      ]
    },
    {
      "cell_type": "code",
      "source": [
        "#Check if the number 10 is in a given list.\n",
        "list = [1,2,3,4,5]\n",
        "if 10 in list:\n",
        "    print(\"10 is in the list.\")\n",
        "else:\n",
        "    print(\"10 is not in the list.\")"
      ],
      "metadata": {
        "colab": {
          "base_uri": "https://localhost:8080/"
        },
        "id": "f3sRS8JdRpNF",
        "outputId": "ccd35503-3e93-4757-f348-712348edd660"
      },
      "execution_count": 15,
      "outputs": [
        {
          "output_type": "stream",
          "name": "stdout",
          "text": [
            "10 is not in the list.\n"
          ]
        }
      ]
    },
    {
      "cell_type": "code",
      "source": [
        "#.Create two lists and join them into one.\n",
        "list1 = [1,2,3,4,5]\n",
        "list2 = [6,7,8,9,10]\n",
        "list1.extend(list2)\n",
        "print(list1)"
      ],
      "metadata": {
        "colab": {
          "base_uri": "https://localhost:8080/"
        },
        "id": "loXhaXlmRpQ4",
        "outputId": "ca9cd568-2761-4c36-b7fb-2cd74f005bbc"
      },
      "execution_count": 16,
      "outputs": [
        {
          "output_type": "stream",
          "name": "stdout",
          "text": [
            "[1, 2, 3, 4, 5, 6, 7, 8, 9, 10]\n"
          ]
        }
      ]
    },
    {
      "cell_type": "code",
      "source": [
        "#Print a list in reverse order without using slicing ([::-1]).\n",
        "list = [1,2,3,4,5]\n",
        "list.reverse()\n",
        "print(list)"
      ],
      "metadata": {
        "colab": {
          "base_uri": "https://localhost:8080/"
        },
        "id": "z81g7OZ_RpUs",
        "outputId": "ec54827c-250d-4483-fd48-a9d5a9eeac8c"
      },
      "execution_count": 17,
      "outputs": [
        {
          "output_type": "stream",
          "name": "stdout",
          "text": [
            "[5, 4, 3, 2, 1]\n"
          ]
        }
      ]
    },
    {
      "cell_type": "code",
      "source": [
        "#Sort a list in ascending order without using .sort().\n",
        "list = [5,4,3,2,1]\n",
        "for i in range(len(list)):\n",
        "    for j in range(i+1,len(list)):\n",
        "        if list[i] > list[j]:\n",
        "            list[i],list[j] = list[j],list[i]\n",
        "print(list)"
      ],
      "metadata": {
        "colab": {
          "base_uri": "https://localhost:8080/"
        },
        "id": "n9P9HGS-RpYU",
        "outputId": "f7fa05e8-30e3-453f-badc-3cbfc4480626"
      },
      "execution_count": 18,
      "outputs": [
        {
          "output_type": "stream",
          "name": "stdout",
          "text": [
            "[1, 2, 3, 4, 5]\n"
          ]
        }
      ]
    },
    {
      "cell_type": "code",
      "source": [
        "#Create a tuple of three colors and print it.\n",
        "tuple = (\"red\",\"green\",\"blue\")\n",
        "print(tuple)"
      ],
      "metadata": {
        "colab": {
          "base_uri": "https://localhost:8080/"
        },
        "id": "Pev7A6ZNRpb6",
        "outputId": "666a9794-e021-4449-f39b-8edafe626e1d"
      },
      "execution_count": 19,
      "outputs": [
        {
          "output_type": "stream",
          "name": "stdout",
          "text": [
            "('red', 'green', 'blue')\n"
          ]
        }
      ]
    },
    {
      "cell_type": "code",
      "source": [
        "#Print the second element of a given tuple.\n",
        "tuple = (\"red\",\"green\",\"blue\")\n",
        "print(tuple[1])"
      ],
      "metadata": {
        "colab": {
          "base_uri": "https://localhost:8080/"
        },
        "id": "Y4PTN-c2RpfZ",
        "outputId": "88205b75-19a6-4b21-c596-a733d4694233"
      },
      "execution_count": 20,
      "outputs": [
        {
          "output_type": "stream",
          "name": "stdout",
          "text": [
            "green\n"
          ]
        }
      ]
    },
    {
      "cell_type": "code",
      "source": [
        "#Try changing an element in a tuple (observe the error).\n",
        "tuple = (\"red\",\"green\",\"blue\")\n",
        "tuple[1] = \"yellow\""
      ],
      "metadata": {
        "colab": {
          "base_uri": "https://localhost:8080/",
          "height": 176
        },
        "id": "UzZ8NOjoU9Hs",
        "outputId": "31eaa105-608e-4525-82d7-6f8cdcdfc9ad"
      },
      "execution_count": 3,
      "outputs": [
        {
          "output_type": "error",
          "ename": "TypeError",
          "evalue": "'tuple' object does not support item assignment",
          "traceback": [
            "\u001b[0;31m---------------------------------------------------------------------------\u001b[0m",
            "\u001b[0;31mTypeError\u001b[0m                                 Traceback (most recent call last)",
            "\u001b[0;32m/tmp/ipython-input-3-3043311525.py\u001b[0m in \u001b[0;36m<cell line: 0>\u001b[0;34m()\u001b[0m\n\u001b[1;32m      1\u001b[0m \u001b[0;31m#Try changing an element in a tuple (observe the error).\u001b[0m\u001b[0;34m\u001b[0m\u001b[0;34m\u001b[0m\u001b[0m\n\u001b[1;32m      2\u001b[0m \u001b[0mtuple\u001b[0m \u001b[0;34m=\u001b[0m \u001b[0;34m(\u001b[0m\u001b[0;34m\"red\"\u001b[0m\u001b[0;34m,\u001b[0m\u001b[0;34m\"green\"\u001b[0m\u001b[0;34m,\u001b[0m\u001b[0;34m\"blue\"\u001b[0m\u001b[0;34m)\u001b[0m\u001b[0;34m\u001b[0m\u001b[0;34m\u001b[0m\u001b[0m\n\u001b[0;32m----> 3\u001b[0;31m \u001b[0mtuple\u001b[0m\u001b[0;34m[\u001b[0m\u001b[0;36m1\u001b[0m\u001b[0;34m]\u001b[0m \u001b[0;34m=\u001b[0m \u001b[0;34m\"yellow\"\u001b[0m\u001b[0;34m\u001b[0m\u001b[0;34m\u001b[0m\u001b[0m\n\u001b[0m",
            "\u001b[0;31mTypeError\u001b[0m: 'tuple' object does not support item assignment"
          ]
        }
      ]
    },
    {
      "cell_type": "code",
      "source": [
        "#Convert a tuple to a list and print it.\n",
        "my_tuple = (\"red\", \"green\", \"blue\")\n",
        "my_list = list(my_tuple)\n",
        "print(my_list)"
      ],
      "metadata": {
        "colab": {
          "base_uri": "https://localhost:8080/"
        },
        "id": "eYv0aUojU9KR",
        "outputId": "4c786cda-c763-4b70-9a06-c2e8327955b6"
      },
      "execution_count": 2,
      "outputs": [
        {
          "output_type": "stream",
          "name": "stdout",
          "text": [
            "['red', 'green', 'blue']\n"
          ]
        }
      ]
    },
    {
      "cell_type": "code",
      "source": [
        "#Check if \"blue\" exists in a given tuple.\n",
        "my_tuple = (\"red\", \"green\", \"blue\")\n",
        "if \"blue\" in my_tuple:\n",
        "    print(\"blue exists in the tuple\")\n",
        "else:\n",
        "    print(\"blue does not exist in the tuple\")"
      ],
      "metadata": {
        "colab": {
          "base_uri": "https://localhost:8080/"
        },
        "id": "nxCWjuL0U9M6",
        "outputId": "1e0e0546-f836-4e1f-ad22-95c39d0386ee"
      },
      "execution_count": 4,
      "outputs": [
        {
          "output_type": "stream",
          "name": "stdout",
          "text": [
            "blue exists in the tuple\n"
          ]
        }
      ]
    },
    {
      "cell_type": "code",
      "source": [
        "#Print each element of a tuple using a loop.\n",
        "my_tuple = (\"red\", \"green\", \"blue\")\n",
        "for element in my_tuple:\n",
        "    print(element)"
      ],
      "metadata": {
        "colab": {
          "base_uri": "https://localhost:8080/"
        },
        "id": "3VTOuN_tU9Pk",
        "outputId": "e2c0e513-17c9-49b2-ea53-6eca70ec0046"
      },
      "execution_count": 5,
      "outputs": [
        {
          "output_type": "stream",
          "name": "stdout",
          "text": [
            "red\n",
            "green\n",
            "blue\n"
          ]
        }
      ]
    },
    {
      "cell_type": "code",
      "source": [
        "#Merge two tuples and print the result.\n",
        "tuple1 = (1,2,3)\n",
        "tuple2 = (4,5,6)\n",
        "tuple3 = tuple1 + tuple2\n",
        "print(tuple3)"
      ],
      "metadata": {
        "colab": {
          "base_uri": "https://localhost:8080/"
        },
        "id": "vDG-nck6U9Sa",
        "outputId": "94e1f1c9-b8db-495a-cdb9-1b78f6f12db0"
      },
      "execution_count": 6,
      "outputs": [
        {
          "output_type": "stream",
          "name": "stdout",
          "text": [
            "(1, 2, 3, 4, 5, 6)\n"
          ]
        }
      ]
    },
    {
      "cell_type": "code",
      "source": [
        "#Print a tuple in reverse order.\n",
        "my_tuple = (1, 2, 3, 4, 5)\n",
        "reversed_tuple = my_tuple[::-1]\n",
        "print(reversed_tuple)"
      ],
      "metadata": {
        "colab": {
          "base_uri": "https://localhost:8080/"
        },
        "id": "0XCt1CZsU9Vk",
        "outputId": "658752ba-b054-4da6-d9fa-fff120c79505"
      },
      "execution_count": 7,
      "outputs": [
        {
          "output_type": "stream",
          "name": "stdout",
          "text": [
            "(5, 4, 3, 2, 1)\n"
          ]
        }
      ]
    },
    {
      "cell_type": "code",
      "source": [
        "#Find the length of a tuple without using len().\n",
        "my_tuple = (1, 2, 3, 4, 5)\n",
        "count = 0\n",
        "for _ in my_tuple:\n",
        "    count += 1\n",
        "print(count)\n",
        "#"
      ],
      "metadata": {
        "colab": {
          "base_uri": "https://localhost:8080/"
        },
        "id": "1BUuuPvaU9Yw",
        "outputId": "c1b9e233-b7c0-4c78-c234-7baab636ea7c"
      },
      "execution_count": 9,
      "outputs": [
        {
          "output_type": "stream",
          "name": "stdout",
          "text": [
            "5\n"
          ]
        }
      ]
    },
    {
      "cell_type": "code",
      "source": [
        "#Create a tuple with a single element and print its type.\n",
        "my_tuple = (1,)\n",
        "print(type(my_tuple))"
      ],
      "metadata": {
        "colab": {
          "base_uri": "https://localhost:8080/"
        },
        "id": "bfxPlMrOU9bl",
        "outputId": "cd40b32e-e08b-4786-e6ee-ed21668ab43f"
      },
      "execution_count": 10,
      "outputs": [
        {
          "output_type": "stream",
          "name": "stdout",
          "text": [
            "<class 'tuple'>\n"
          ]
        }
      ]
    },
    {
      "cell_type": "code",
      "source": [
        "#Create a string \"Hello, World!\" and print only \"World!\".\n",
        "str = \"Hello, World!\"\n",
        "print(str[7:])"
      ],
      "metadata": {
        "colab": {
          "base_uri": "https://localhost:8080/"
        },
        "id": "b-lMhyCcU9eV",
        "outputId": "6461be32-64e0-44e3-e555-51a9f3f4ce41"
      },
      "execution_count": 11,
      "outputs": [
        {
          "output_type": "stream",
          "name": "stdout",
          "text": [
            "World!\n"
          ]
        }
      ]
    },
    {
      "cell_type": "code",
      "source": [
        "#Convert \"Python is fun\" to \"PYTHON IS FUN\" without using .upper().\n",
        "str = \"Python is fun\"\n",
        "new_str = \"\"\n",
        "for char in str:\n",
        "    if 'a' <= char <= 'z':\n",
        "        new_str += chr(ord(char) - 32)\n",
        "    else:\n",
        "        new_str += char\n",
        "print(new_str)"
      ],
      "metadata": {
        "colab": {
          "base_uri": "https://localhost:8080/"
        },
        "id": "JaK9_WtfU9hC",
        "outputId": "a53e39fd-e225-4e6b-f3b8-f9b7f952f0e5"
      },
      "execution_count": 14,
      "outputs": [
        {
          "output_type": "stream",
          "name": "stdout",
          "text": [
            "PYTHON IS FUN\n"
          ]
        }
      ]
    },
    {
      "cell_type": "code",
      "source": [
        "#Count how many words are in \"I love learning Python\" (without using .split()).\n",
        "str = \"I love learning Python\"\n",
        "count = 0\n",
        "for char in str:\n",
        "    if char == \" \":\n",
        "        count += 1\n",
        "count += 1\n",
        "print(count)"
      ],
      "metadata": {
        "colab": {
          "base_uri": "https://localhost:8080/"
        },
        "id": "b4n5LvckU9kG",
        "outputId": "bbbad010-e189-4148-8af7-6fb3880731d5"
      },
      "execution_count": 15,
      "outputs": [
        {
          "output_type": "stream",
          "name": "stdout",
          "text": [
            "4\n"
          ]
        }
      ]
    },
    {
      "cell_type": "code",
      "source": [
        "#Take a string input from the user and check if it starts with \"Hello\".\n",
        "str = input(\"Enter a string: \")\n",
        "if str.startswith(\"Hello\"):\n",
        "    print(\"The string starts with 'Hello'.\")\n",
        "else:\n",
        "    print(\"The string does not start with 'Hello'.\")"
      ],
      "metadata": {
        "colab": {
          "base_uri": "https://localhost:8080/"
        },
        "id": "VrdXP7pdU9m8",
        "outputId": "1dfc13df-677d-4d2d-994f-d5c78b4e22ae"
      },
      "execution_count": 16,
      "outputs": [
        {
          "output_type": "stream",
          "name": "stdout",
          "text": [
            "Enter a string: python world\n",
            "The string does not start with 'Hello'.\n"
          ]
        }
      ]
    },
    {
      "cell_type": "code",
      "source": [
        "#Print every second character of a string.\n",
        "str = input(\"Enter a string: \")\n",
        "print(str[::2])"
      ],
      "metadata": {
        "colab": {
          "base_uri": "https://localhost:8080/"
        },
        "id": "IWcf8Ql3U9qg",
        "outputId": "50705327-1cbc-4264-a567-a82136500f22"
      },
      "execution_count": 18,
      "outputs": [
        {
          "output_type": "stream",
          "name": "stdout",
          "text": [
            "Enter a string: datascience\n",
            "dtsine\n"
          ]
        }
      ]
    },
    {
      "cell_type": "code",
      "source": [
        "#Replace all vowels in a string with \"*\".\n",
        "str = input(\"Enter a string: \")\n",
        "vowels = \"aeiouAEIOU\"\n",
        "new_str = \"\"\n",
        "for char in str:\n",
        "    if char in vowels:\n",
        "        new_str += \"*\"\n",
        "    else:\n",
        "        new_str += char\n",
        "print(new_str)"
      ],
      "metadata": {
        "colab": {
          "base_uri": "https://localhost:8080/"
        },
        "id": "8iXJiflIau3b",
        "outputId": "1667aadf-a03e-4d07-bf45-3e7636bbad1e"
      },
      "execution_count": 23,
      "outputs": [
        {
          "output_type": "stream",
          "name": "stdout",
          "text": [
            "Enter a string: science\n",
            "sc**nc*\n"
          ]
        }
      ]
    },
    {
      "cell_type": "code",
      "source": [
        "#Swap the first and last character of a string.\n",
        "str = input(\"Enter a string: \")\n",
        "first_char = str[0]\n",
        "last_char = str[-1]\n",
        "middle_chars = str[1:-1]\n",
        "new_str = last_char + middle_chars + first_char\n",
        "print(new_str)"
      ],
      "metadata": {
        "colab": {
          "base_uri": "https://localhost:8080/"
        },
        "id": "Bd_wSPd6avB2",
        "outputId": "24feb785-0553-4d04-9b6f-19f6b3a27a78"
      },
      "execution_count": 24,
      "outputs": [
        {
          "output_type": "stream",
          "name": "stdout",
          "text": [
            "Enter a string: reddy\n",
            "yeddr\n"
          ]
        }
      ]
    },
    {
      "cell_type": "code",
      "source": [
        "#Check if two given strings are the same (case-sensitive).\n",
        "str1 = input(\"Enter a string: \")\n",
        "str2 = input(\"Enter a string: \")\n",
        "if str1 == str2:\n",
        "    print(\"The strings are the same.\")\n",
        "else:\n",
        "    print(\"The strings are not the same.\")"
      ],
      "metadata": {
        "colab": {
          "base_uri": "https://localhost:8080/"
        },
        "id": "33G_nmscavEu",
        "outputId": "c17f0cf2-c38e-42d7-8f48-dd96e87b339d"
      },
      "execution_count": 25,
      "outputs": [
        {
          "output_type": "stream",
          "name": "stdout",
          "text": [
            "Enter a string: varshith\n",
            "Enter a string: varshith\n",
            "The strings are the same.\n"
          ]
        }
      ]
    },
    {
      "cell_type": "code",
      "source": [
        "#Print a string without the first and last character.\n",
        "str = input(\"Enter a string: \")\n",
        "print(str[1:-1])"
      ],
      "metadata": {
        "colab": {
          "base_uri": "https://localhost:8080/"
        },
        "id": "XGN1ZnmKavHY",
        "outputId": "fd54df86-2ddc-488f-c81b-c77a6139bec5"
      },
      "execution_count": 26,
      "outputs": [
        {
          "output_type": "stream",
          "name": "stdout",
          "text": [
            "Enter a string: visualization\n",
            "isualizatio\n"
          ]
        }
      ]
    },
    {
      "cell_type": "code",
      "source": [
        "#Convert a string \"12345\" into a list of individual characters.\n",
        "str = \"12345\"\n",
        "list = []\n",
        "for char in str:\n",
        "    list.append(char)\n",
        "print(list)"
      ],
      "metadata": {
        "colab": {
          "base_uri": "https://localhost:8080/"
        },
        "id": "5Z38ygWDavJ9",
        "outputId": "bd219f1a-633c-4edc-c2e2-95265c231c6a"
      },
      "execution_count": 27,
      "outputs": [
        {
          "output_type": "stream",
          "name": "stdout",
          "text": [
            "['1', '2', '3', '4', '5']\n"
          ]
        }
      ]
    },
    {
      "cell_type": "code",
      "source": [
        "#Create a list of five cities and print only the last three.\n",
        "list = [\"New York\", \"Los Angeles\", \"Chicago\", \"Houston\", \"Miami\"]\n",
        "print(list[-3:])"
      ],
      "metadata": {
        "colab": {
          "base_uri": "https://localhost:8080/"
        },
        "id": "a9z-6X0navMl",
        "outputId": "2c90f8cb-3f8a-48a6-8161-7d3b3393497b"
      },
      "execution_count": 28,
      "outputs": [
        {
          "output_type": "stream",
          "name": "stdout",
          "text": [
            "['Chicago', 'Houston', 'Miami']\n"
          ]
        }
      ]
    },
    {
      "cell_type": "code",
      "source": [
        "#Remove the middle element from a list of five elements.\n",
        "list = [1,2,3,4,5]\n",
        "middle_index = len(list) // 2\n",
        "del list[middle_index]\n",
        "print(list)"
      ],
      "metadata": {
        "colab": {
          "base_uri": "https://localhost:8080/"
        },
        "id": "mw1sVRzkavPx",
        "outputId": "4d93afa7-d83a-4a2d-fe6f-3efb3e1f5e9f"
      },
      "execution_count": 29,
      "outputs": [
        {
          "output_type": "stream",
          "name": "stdout",
          "text": [
            "[1, 2, 4, 5]\n"
          ]
        }
      ]
    },
    {
      "cell_type": "code",
      "source": [
        "#Take five numbers from the user and store them in a list.\n",
        "list = []\n",
        "for i in range(5):\n",
        "    num = int(input(\"Enter a number: \"))\n",
        "    list.append(num)\n",
        "print(list)"
      ],
      "metadata": {
        "colab": {
          "base_uri": "https://localhost:8080/"
        },
        "id": "9W9rkKaXavSY",
        "outputId": "3557ca8c-2665-4e85-fad8-748d09fb5940"
      },
      "execution_count": 30,
      "outputs": [
        {
          "output_type": "stream",
          "name": "stdout",
          "text": [
            "Enter a number: 6\n",
            "Enter a number: 7\n",
            "Enter a number: 4\n",
            "Enter a number: 3\n",
            "Enter a number: 9\n",
            "[6, 7, 4, 3, 9]\n"
          ]
        }
      ]
    },
    {
      "cell_type": "code",
      "source": [
        "#Find the index of \"apple\" in the list [\"banana\", \"orange\", \"apple\", \"grape\"].\n",
        "list = [\"banana\", \"orange\", \"apple\", \"grape\"]\n",
        "index = list.index(\"apple\")\n",
        "print(index)"
      ],
      "metadata": {
        "colab": {
          "base_uri": "https://localhost:8080/"
        },
        "id": "hRYdWNZdavVN",
        "outputId": "dbf7e398-52ef-41f0-8da4-8258f2712d63"
      },
      "execution_count": 31,
      "outputs": [
        {
          "output_type": "stream",
          "name": "stdout",
          "text": [
            "2\n"
          ]
        }
      ]
    },
    {
      "cell_type": "code",
      "source": [
        "#Print only the even numbers from a given list.\n",
        "list = [1,2,3,4,5,6,7,8,9,10]\n",
        "for num in list:\n",
        "    if num % 2 == 0:\n",
        "        print(num)"
      ],
      "metadata": {
        "colab": {
          "base_uri": "https://localhost:8080/"
        },
        "id": "neFl8OAXavYH",
        "outputId": "244cb1c6-00ab-402d-f429-e703bfb05bc8"
      },
      "execution_count": 32,
      "outputs": [
        {
          "output_type": "stream",
          "name": "stdout",
          "text": [
            "2\n",
            "4\n",
            "6\n",
            "8\n",
            "10\n"
          ]
        }
      ]
    },
    {
      "cell_type": "code",
      "source": [
        "#Reverse a list by swapping elements (without [::-1]).\n",
        "list = [1,2,3,4,5]\n",
        "for i in range(len(list)//2):\n",
        "    list[i],list[len(list)-i-1] = list[len(list)-i-1],list[i]\n",
        "print(list)\n"
      ],
      "metadata": {
        "colab": {
          "base_uri": "https://localhost:8080/"
        },
        "id": "SRNWBYxwavdx",
        "outputId": "ca0f09b1-83ef-4421-cd70-ca8ce07357f2"
      },
      "execution_count": 5,
      "outputs": [
        {
          "output_type": "stream",
          "name": "stdout",
          "text": [
            "[5, 4, 3, 2, 1]\n"
          ]
        }
      ]
    },
    {
      "cell_type": "code",
      "source": [
        "#.Create a list of ten numbers and print only the unique elements.\n",
        "list = [1,2,3,4,5,1,2,3,4,5]\n",
        "unique_list = []\n",
        "for num in list:\n",
        "    if num not in unique_list:\n",
        "        unique_list.append(num)\n",
        "print(unique_list)"
      ],
      "metadata": {
        "colab": {
          "base_uri": "https://localhost:8080/"
        },
        "id": "Pakaq2CjavhM",
        "outputId": "737ba99e-3b0c-4f28-894f-41ae4f69dd7c"
      },
      "execution_count": 6,
      "outputs": [
        {
          "output_type": "stream",
          "name": "stdout",
          "text": [
            "[1, 2, 3, 4, 5]\n"
          ]
        }
      ]
    },
    {
      "cell_type": "code",
      "source": [
        "#Print the sum of all elements in a list (without using sum()).\n",
        "list = [1,2,3,4,5]\n",
        "sum = 0\n",
        "for num in list:\n",
        "    sum += num\n",
        "print(sum)"
      ],
      "metadata": {
        "colab": {
          "base_uri": "https://localhost:8080/"
        },
        "id": "LfH6i_eZavsC",
        "outputId": "5cb1c700-b856-4da3-c58d-7854284bea15"
      },
      "execution_count": 7,
      "outputs": [
        {
          "output_type": "stream",
          "name": "stdout",
          "text": [
            "15\n"
          ]
        }
      ]
    },
    {
      "cell_type": "code",
      "source": [
        "#Move the first element of a list to the last position.\n",
        "list = [1,2,3,4,5]\n",
        "first_element = list.pop(0)\n",
        "list.append(first_element)\n",
        "print(list)"
      ],
      "metadata": {
        "colab": {
          "base_uri": "https://localhost:8080/"
        },
        "id": "zBSyS-F0avuo",
        "outputId": "f24b4773-da1d-4737-fa1a-946d662a115f"
      },
      "execution_count": 8,
      "outputs": [
        {
          "output_type": "stream",
          "name": "stdout",
          "text": [
            "[2, 3, 4, 5, 1]\n"
          ]
        }
      ]
    },
    {
      "cell_type": "code",
      "source": [
        "#.Create a list with mixed data types (int, float, string) and print each element with its type.\n",
        "list = [1,2.0,\"3\"]\n",
        "for element in list:\n",
        "    print(element,type(element))"
      ],
      "metadata": {
        "colab": {
          "base_uri": "https://localhost:8080/"
        },
        "id": "gGkmYonxavxb",
        "outputId": "d2755135-00a7-46ab-df06-591fe30298e0"
      },
      "execution_count": 9,
      "outputs": [
        {
          "output_type": "stream",
          "name": "stdout",
          "text": [
            "1 <class 'int'>\n",
            "2.0 <class 'float'>\n",
            "3 <class 'str'>\n"
          ]
        }
      ]
    },
    {
      "cell_type": "code",
      "source": [
        "#Create a tuple of five numbers and print only the first three.\n",
        "tuple = (13, 15, \"yes\", 16, \"me\")\n",
        "tuple[:3:1]"
      ],
      "metadata": {
        "colab": {
          "base_uri": "https://localhost:8080/"
        },
        "id": "0Xc_wLgSav04",
        "outputId": "d1c8006d-3247-409d-ba94-89aaed524d10"
      },
      "execution_count": 10,
      "outputs": [
        {
          "output_type": "execute_result",
          "data": {
            "text/plain": [
              "(13, 15, 'yes')"
            ]
          },
          "metadata": {},
          "execution_count": 10
        }
      ]
    },
    {
      "cell_type": "code",
      "source": [
        "#Print the last element of a tuple without using negative indexing.\n",
        "tuple = (13, 15, \"yes\", 16, \"me\")\n",
        "tuple[:-2:-1]"
      ],
      "metadata": {
        "colab": {
          "base_uri": "https://localhost:8080/"
        },
        "id": "nNk1vdHwglkk",
        "outputId": "e97a00ca-5ebb-49c1-ce0b-980743242d38"
      },
      "execution_count": 11,
      "outputs": [
        {
          "output_type": "execute_result",
          "data": {
            "text/plain": [
              "('me',)"
            ]
          },
          "metadata": {},
          "execution_count": 11
        }
      ]
    },
    {
      "cell_type": "code",
      "source": [
        "#Convert a tuple (1, 2, 3, 4, 5) into a list and add a new number.\n",
        "tuple = (1, 2, 3, 4, 5)\n",
        "list = list(tuple)\n",
        "print(list)"
      ],
      "metadata": {
        "colab": {
          "base_uri": "https://localhost:8080/"
        },
        "id": "m-dWJhyWgln5",
        "outputId": "945a99fa-48b1-4253-cbb7-039c046ac5ae"
      },
      "execution_count": 1,
      "outputs": [
        {
          "output_type": "stream",
          "name": "stdout",
          "text": [
            "[1, 2, 3, 4, 5]\n"
          ]
        }
      ]
    },
    {
      "cell_type": "code",
      "source": [
        "#Try deleting an element from a tuple and observe the error.\n",
        "tuple = (1, 2, 3, 4, 5)\n",
        "del tuple[0]"
      ],
      "metadata": {
        "colab": {
          "base_uri": "https://localhost:8080/",
          "height": 176
        },
        "id": "NVJaOOuRglq4",
        "outputId": "af21a2bf-549d-441e-c801-351412db3965"
      },
      "execution_count": 1,
      "outputs": [
        {
          "output_type": "error",
          "ename": "NameError",
          "evalue": "name 'remove' is not defined",
          "traceback": [
            "\u001b[0;31m---------------------------------------------------------------------------\u001b[0m",
            "\u001b[0;31mNameError\u001b[0m                                 Traceback (most recent call last)",
            "\u001b[0;32m/tmp/ipython-input-1-2374072546.py\u001b[0m in \u001b[0;36m<cell line: 0>\u001b[0;34m()\u001b[0m\n\u001b[1;32m      1\u001b[0m \u001b[0;31m#Try deleting an element from a tuple and observe the error.\u001b[0m\u001b[0;34m\u001b[0m\u001b[0;34m\u001b[0m\u001b[0m\n\u001b[1;32m      2\u001b[0m \u001b[0mtuple\u001b[0m \u001b[0;34m=\u001b[0m \u001b[0;34m(\u001b[0m\u001b[0;36m1\u001b[0m\u001b[0;34m,\u001b[0m \u001b[0;36m2\u001b[0m\u001b[0;34m,\u001b[0m \u001b[0;36m3\u001b[0m\u001b[0;34m,\u001b[0m \u001b[0;36m4\u001b[0m\u001b[0;34m,\u001b[0m \u001b[0;36m5\u001b[0m\u001b[0;34m)\u001b[0m\u001b[0;34m\u001b[0m\u001b[0;34m\u001b[0m\u001b[0m\n\u001b[0;32m----> 3\u001b[0;31m \u001b[0mremove\u001b[0m\u001b[0;34m.\u001b[0m\u001b[0mtuple\u001b[0m\u001b[0;34m[\u001b[0m\u001b[0;36m0\u001b[0m\u001b[0;34m]\u001b[0m\u001b[0;34m\u001b[0m\u001b[0;34m\u001b[0m\u001b[0m\n\u001b[0m",
            "\u001b[0;31mNameError\u001b[0m: name 'remove' is not defined"
          ]
        }
      ]
    },
    {
      "cell_type": "code",
      "source": [
        "#Extract the middle element from a tuple with an odd number of elements.\n",
        "tuple = (1, 2, 3, 4,5)\n",
        "middle_index = len(tuple) // 2\n",
        "middle_element = tuple[middle_index]\n",
        "print(middle_element)"
      ],
      "metadata": {
        "colab": {
          "base_uri": "https://localhost:8080/"
        },
        "id": "X3mnCe_3gltg",
        "outputId": "52c3ff52-9fee-42a6-ab22-a4d78ed69d15"
      },
      "execution_count": 2,
      "outputs": [
        {
          "output_type": "stream",
          "name": "stdout",
          "text": [
            "3\n"
          ]
        }
      ]
    },
    {
      "cell_type": "code",
      "source": [
        "#Check if two tuples (1, 2, 3) and (3, 2, 1) are the same.\n",
        "tuple1 = (1, 2, 3)\n",
        "tuple2 = (3, 2, 1)\n",
        "if tuple1 == tuple2:\n",
        "    print(\"The tuples are the same.\")\n",
        "else:\n",
        "    print(\"The tuples are not the same.\")"
      ],
      "metadata": {
        "colab": {
          "base_uri": "https://localhost:8080/"
        },
        "id": "gC8J-5MFglw4",
        "outputId": "7a0c9c86-d207-4b2e-93a6-777ec7b05612"
      },
      "execution_count": 3,
      "outputs": [
        {
          "output_type": "stream",
          "name": "stdout",
          "text": [
            "The tuples are not the same.\n"
          ]
        }
      ]
    },
    {
      "cell_type": "code",
      "source": [
        "#Create a nested tuple and print an inner element.\n",
        "nested_tuple = ((1, 2, 3), (4, 5, 6), (7, 8, 9))\n",
        "inner_element = nested_tuple[1][2]\n",
        "print(inner_element)"
      ],
      "metadata": {
        "colab": {
          "base_uri": "https://localhost:8080/"
        },
        "id": "rbx5DegUgl6b",
        "outputId": "262893f2-30ab-4555-fa37-4fa55c437489"
      },
      "execution_count": 4,
      "outputs": [
        {
          "output_type": "stream",
          "name": "stdout",
          "text": [
            "6\n"
          ]
        }
      ]
    },
    {
      "cell_type": "code",
      "source": [
        "#.Merge three tuples into one.\n",
        "tuple1 = (1, 2, 3)\n",
        "tuple2 = (4, 5, 6)\n",
        "tuple3 = (7, 8, 9)\n",
        "merged_tuple = tuple1 + tuple2 + tuple3\n",
        "print(merged_tuple)"
      ],
      "metadata": {
        "colab": {
          "base_uri": "https://localhost:8080/"
        },
        "id": "GuAcbnPIjZkF",
        "outputId": "6b524e60-1fbc-42e3-95b6-314a1140a971"
      },
      "execution_count": 5,
      "outputs": [
        {
          "output_type": "stream",
          "name": "stdout",
          "text": [
            "(1, 2, 3, 4, 5, 6, 7, 8, 9)\n"
          ]
        }
      ]
    },
    {
      "cell_type": "code",
      "source": [
        "#Find the index of 5 in the tuple (1, 3, 5, 7, 9).\n",
        "my_tuple = (1, 3, 5, 7, 9)\n",
        "index = my_tuple.index(5)\n",
        "print(index)"
      ],
      "metadata": {
        "colab": {
          "base_uri": "https://localhost:8080/"
        },
        "id": "IbBXcf-sjaB8",
        "outputId": "9b7675a1-cc8a-4f21-dd3b-b05c2cfc25ed"
      },
      "execution_count": 6,
      "outputs": [
        {
          "output_type": "stream",
          "name": "stdout",
          "text": [
            "2\n"
          ]
        }
      ]
    },
    {
      "cell_type": "code",
      "source": [
        "#Unpack a tuple into separate variables\n",
        "my_tuple = (1, 2, 3)\n",
        "a, b, c = my_tuple\n",
        "print(a, b, c)"
      ],
      "metadata": {
        "colab": {
          "base_uri": "https://localhost:8080/"
        },
        "id": "G3cjS-UOjaKB",
        "outputId": "974a1398-b72b-47d1-82cb-303c2afb481d"
      },
      "execution_count": 8,
      "outputs": [
        {
          "output_type": "stream",
          "name": "stdout",
          "text": [
            "1 2 3\n"
          ]
        }
      ]
    }
  ]
}