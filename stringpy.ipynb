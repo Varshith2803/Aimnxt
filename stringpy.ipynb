{
  "nbformat": 4,
  "nbformat_minor": 0,
  "metadata": {
    "colab": {
      "provenance": []
    },
    "kernelspec": {
      "name": "python3",
      "display_name": "Python 3"
    },
    "language_info": {
      "name": "python"
    }
  },
  "cells": [
    {
      "cell_type": "code",
      "execution_count": 1,
      "metadata": {
        "colab": {
          "base_uri": "https://localhost:8080/",
          "height": 36
        },
        "id": "nEN-H4sIvEld",
        "outputId": "243d1cd1-d0c7-4aab-f922-38c7580e975b"
      },
      "outputs": [
        {
          "output_type": "execute_result",
          "data": {
            "text/plain": [
              "'h   r tnrrmglsnimeNGyosi dtfco'"
            ],
            "application/vnd.google.colaboratory.intrinsic+json": {
              "type": "string"
            }
          },
          "metadata": {},
          "execution_count": 1
        }
      ],
      "source": [
        "#try to extract data from index one to index 300 with a jump of 3\n",
        "s = \"this is My First Python programming class and i am learNING python string and its function\"\n",
        "s[1:300:3]\n"
      ]
    },
    {
      "cell_type": "code",
      "source": [
        "#Try to reverse a string without usimg reverse function\n",
        "s = \"this is My First Python programming\"\n",
        "s[::-1]"
      ],
      "metadata": {
        "colab": {
          "base_uri": "https://localhost:8080/",
          "height": 36
        },
        "id": "qAoWgOqXvjx8",
        "outputId": "5c53f55f-2184-4187-e609-16ced19f90c1"
      },
      "execution_count": 2,
      "outputs": [
        {
          "output_type": "execute_result",
          "data": {
            "text/plain": [
              "'gnimmargorp nohtyP tsriF yM si siht'"
            ],
            "application/vnd.google.colaboratory.intrinsic+json": {
              "type": "string"
            }
          },
          "metadata": {},
          "execution_count": 2
        }
      ]
    },
    {
      "cell_type": "code",
      "source": [
        "#try to split a string after conversion of entire string in uppercase\n",
        "s = \"My First Python programming\"\n",
        "s.upper().split()"
      ],
      "metadata": {
        "colab": {
          "base_uri": "https://localhost:8080/"
        },
        "id": "lRcpKNcNv8KN",
        "outputId": "62414ad1-6712-43e7-9a1b-755f1f25c8f3"
      },
      "execution_count": 3,
      "outputs": [
        {
          "output_type": "execute_result",
          "data": {
            "text/plain": [
              "['MY', 'FIRST', 'PYTHON', 'PROGRAMMING']"
            ]
          },
          "metadata": {},
          "execution_count": 3
        }
      ]
    },
    {
      "cell_type": "code",
      "source": [
        "#try to convert the whole string into lowercase\n",
        "s = \"My First Python programming\"\n",
        "s.lower()"
      ],
      "metadata": {
        "colab": {
          "base_uri": "https://localhost:8080/",
          "height": 36
        },
        "id": "H4QePknswN_U",
        "outputId": "53d192e0-6429-422b-8f80-75a898911b26"
      },
      "execution_count": 4,
      "outputs": [
        {
          "output_type": "execute_result",
          "data": {
            "text/plain": [
              "'my first python programming'"
            ],
            "application/vnd.google.colaboratory.intrinsic+json": {
              "type": "string"
            }
          },
          "metadata": {},
          "execution_count": 4
        }
      ]
    },
    {
      "cell_type": "code",
      "source": [
        "#try to capitalize the whole string\n",
        "s = \"datascience\"\n",
        "print(s.capitalize())"
      ],
      "metadata": {
        "colab": {
          "base_uri": "https://localhost:8080/"
        },
        "id": "tts0I9UWwZ0s",
        "outputId": "3d0967a8-acae-4039-d298-bed9127c2baa"
      },
      "execution_count": 11,
      "outputs": [
        {
          "output_type": "stream",
          "name": "stdout",
          "text": [
            "Datascience\n"
          ]
        }
      ]
    },
    {
      "cell_type": "code",
      "source": [
        "#Write a diference between isalnum() and isalpha()\n",
        "#Use isalnum() when you want to check for letters or numbers.\n",
        "#Use isalpha() when you want to check for letters only."
      ],
      "metadata": {
        "id": "T66EJbSS0v-8"
      },
      "execution_count": 9,
      "outputs": []
    },
    {
      "cell_type": "code",
      "source": [
        "#try to give an example of expand tab\n",
        "s = \"My\\tFirst\\tPython\\tprogramming\"\n",
        "s.expandtabs()"
      ],
      "metadata": {
        "colab": {
          "base_uri": "https://localhost:8080/",
          "height": 36
        },
        "id": "YY53bQRAxdg5",
        "outputId": "24d38852-b7dc-421a-86e4-d1040c5f2c3f"
      },
      "execution_count": 1,
      "outputs": [
        {
          "output_type": "execute_result",
          "data": {
            "text/plain": [
              "'My      First   Python  programming'"
            ],
            "application/vnd.google.colaboratory.intrinsic+json": {
              "type": "string"
            }
          },
          "metadata": {},
          "execution_count": 1
        }
      ]
    },
    {
      "cell_type": "code",
      "source": [
        "#give an example of strip ,lstrip and rstrip\n",
        "s = \"###welcome###\"\n",
        "print(s.strip(\"#\"))\n",
        "print(s.lstrip(\"#\"))\n",
        "print(s.rstrip(\"#\"))\n"
      ],
      "metadata": {
        "colab": {
          "base_uri": "https://localhost:8080/"
        },
        "id": "uM5YyQABxfEN",
        "outputId": "3f3bc52e-d4e7-4f69-f7bf-08dd9b6ec4a8"
      },
      "execution_count": 8,
      "outputs": [
        {
          "output_type": "stream",
          "name": "stdout",
          "text": [
            "welcome\n",
            "welcome###\n",
            "###welcome\n"
          ]
        }
      ]
    },
    {
      "cell_type": "code",
      "source": [
        "#Replace a string charecter by another charector by taking your own example \"aimnxt\"\n",
        "s = \"datascience\"\n",
        "print(s.replace(\"datascience\",\"aimnxt\"))"
      ],
      "metadata": {
        "colab": {
          "base_uri": "https://localhost:8080/"
        },
        "id": "i0w-3CiyxfJu",
        "outputId": "2dd90abf-c9f7-4f39-ed37-95aceb24d874"
      },
      "execution_count": 14,
      "outputs": [
        {
          "output_type": "stream",
          "name": "stdout",
          "text": [
            "aimnxt\n"
          ]
        }
      ]
    },
    {
      "cell_type": "code",
      "source": [
        "#Try  to give a defination of string center function with and exmple\n",
        "# [ ]:"
      ],
      "metadata": {
        "id": "FX5ybm_ixfPk"
      },
      "execution_count": 20,
      "outputs": []
    },
    {
      "cell_type": "code",
      "source": [
        "#Write your own definition of compiler and interpretor without copy paste form internet in your own language\n",
        "#compiler: which is to convert the high level langueage to machine language\n",
        "#interpretor:which is used to executes the code line by line"
      ],
      "metadata": {
        "id": "zH7dRpbuxfVp"
      },
      "execution_count": 18,
      "outputs": []
    },
    {
      "cell_type": "code",
      "source": [
        "# Python is a interpreted of compiled language give a clear ans with your understanding\n",
        "# ans: python is considered an interpreted language, but it can also involving in a compilation step"
      ],
      "metadata": {
        "id": "LECPbzHJxfb7"
      },
      "execution_count": 19,
      "outputs": []
    },
    {
      "cell_type": "code",
      "source": [
        "#Try to write a usecase of python with your understanding.\n",
        "it is used in web development"
      ],
      "metadata": {
        "id": "suCP_W2Dxfjb"
      },
      "execution_count": null,
      "outputs": []
    }
  ]
}